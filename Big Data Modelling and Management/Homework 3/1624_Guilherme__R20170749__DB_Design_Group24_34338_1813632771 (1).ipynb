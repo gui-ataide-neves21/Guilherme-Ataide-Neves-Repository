{
 "cells": [
  {
   "cell_type": "markdown",
   "metadata": {},
   "source": [
    "# Big Data Modelling and Management - Database Design\n",
    "\n",
    "**Group 24 members:** <br>\n",
    "Filipe Lourenço (R20170799), <br>\n",
    "Guilherme Neves (R20170749), <br>\n",
    "Rui Monteiro (R20170796), <br>\n",
    "Vasco Pestana (R20170803)\n",
    "\n",
    "**MSc:** Data Science and Advanced Analytics - Nova IMS <br>\n",
    "2020/2021"
   ]
  },
  {
   "cell_type": "code",
   "execution_count": 2,
   "metadata": {},
   "outputs": [],
   "source": [
    "from pymongo import MongoClient, DESCENDING, ASCENDING, TEXT, GEO2D\n",
    "import mysql.connector\n",
    "from bson.objectid import ObjectId\n",
    "from bson.decimal128 import Decimal128\n",
    "import datetime\n",
    "from decimal import *\n",
    "from urllib.request import urlopen\n",
    "import json\n",
    "import csv\n",
    "from copy import deepcopy\n",
    "import pandas as pd\n",
    "from math import isnan"
   ]
  },
  {
   "cell_type": "markdown",
   "metadata": {},
   "source": [
    "### Connecting to the MongoDB database"
   ]
  },
  {
   "cell_type": "code",
   "execution_count": 3,
   "metadata": {},
   "outputs": [],
   "source": [
    "host=\"rhea.isegi.unl.pt\"\n",
    "port=\"27041\"\n",
    "user=\"GROUP_24\"\n",
    "password=\"T0b5Sez8prB8jo9ohdb907GL5U0S24GX\"\n",
    "protocol=\"mongodb\"\n",
    "client = MongoClient(f\"{protocol}://{user}:{password}@{host}:{port}\")\n",
    "db = client.WWI"
   ]
  },
  {
   "cell_type": "markdown",
   "metadata": {},
   "source": [
    "## 1. Migrate Data to MongoDB\n",
    "### 1.1. Migrate Data from the SQL Tables"
   ]
  },
  {
   "cell_type": "code",
   "execution_count": 194,
   "metadata": {
    "scrolled": true
   },
   "outputs": [
    {
     "name": "stdout",
     "output_type": "stream",
     "text": [
      "Tables:\n",
      " [('Purchasing_PurchaseOrderLines',), ('Purchasing_PurchaseOrders',), ('Purchasing_SupplierCategories',), ('Purchasing_SupplierTransactions',), ('Purchasing_Suppliers',), ('Sales_CustomerCategories',), ('Sales_CustomerTransactions',), ('Sales_Customers',), ('Sales_InvoiceLines',), ('Sales_Invoices',), ('Sales_OrderLines',), ('Sales_Orders',)]\n",
      "\n"
     ]
    }
   ],
   "source": [
    "mydb = mysql.connector.connect(host='rhea.isegi.unl.pt',\n",
    "                               user='wwi-read-only-user',\n",
    "                               database='WWI',\n",
    "                               port=3306,\n",
    "                               password='jGp2GCqrss6nfTEu5ZawhW3mksLsQYQb')\n",
    "mycursor = mydb.cursor()\n",
    "\n",
    "mycursor.execute('SHOW TABLES;')\n",
    "print(f\"Tables:\\n {mycursor.fetchall()}\\n\")"
   ]
  },
  {
   "cell_type": "code",
   "execution_count": 195,
   "metadata": {},
   "outputs": [
    {
     "name": "stdout",
     "output_type": "stream",
     "text": [
      "Tables:\n",
      " [('CustomerTransactionID', b'int', 'YES', '', None, ''), ('CustomerID', b'int', 'YES', '', None, ''), ('TransactionTypeID', b'int', 'YES', '', None, ''), ('InvoiceID', b'int', 'YES', '', None, ''), ('PaymentMethodID', b'int', 'YES', '', None, ''), ('TransactionDate', b'date', 'YES', '', None, ''), ('AmountExcludingTax', b'decimal(18,2)', 'YES', '', None, ''), ('TaxAmount', b'decimal(18,2)', 'YES', '', None, ''), ('TransactionAmount', b'decimal(18,2)', 'YES', '', None, ''), ('OutstandingBalance', b'decimal(18,2)', 'YES', '', None, ''), ('FinalizationDate', b'date', 'YES', '', None, ''), ('IsFinalized', b'bit(1)', 'YES', '', None, '')]\n",
      "\n"
     ]
    }
   ],
   "source": [
    "mycursor.execute('DESCRIBE Sales_CustomerTransactions;')\n",
    "print(f\"Tables:\\n {mycursor.fetchall()}\\n\")"
   ]
  },
  {
   "cell_type": "code",
   "execution_count": 9,
   "metadata": {
    "scrolled": true
   },
   "outputs": [],
   "source": [
    "def insert_sql(collection_name):\n",
    "    # Connect to the cursor\n",
    "    mydb = mysql.connector.connect(host='rhea.isegi.unl.pt',\n",
    "                               user='wwi-read-only-user',\n",
    "                               database='WWI',\n",
    "                               port=3306,\n",
    "                               password='jGp2GCqrss6nfTEu5ZawhW3mksLsQYQb')\n",
    "    mycursor = mydb.cursor()\n",
    "\n",
    "    # Get tables' columns\n",
    "    mycursor.execute('DESCRIBE ' + collection_name + ';')\n",
    "    table_columns = mycursor.fetchall()\n",
    "    \n",
    "    field_names = []\n",
    "    for i in range(len(table_columns)):\n",
    "        field_names.append(table_columns[i][0])\n",
    "    \n",
    "    mycursor.execute(' SELECT ' + ', '.join(field_names) + ' FROM ' + collection_name)\n",
    "\n",
    "    # Create the new collection\n",
    "    db.create_collection(collection_name)\n",
    "\n",
    "    # pymongo requires Python dictionaries\n",
    "    cus = dict()\n",
    "\n",
    "    # Cycle through each MySQL row in the cursor\n",
    "    for row in mycursor:\n",
    "        # Insert an ObjectId to the document\n",
    "        cus['_id'] = ObjectId()                                   \n",
    "\n",
    "        # Check if the current row is null\n",
    "        for i in range(0, len(row)):\n",
    "            if (row[i] == None) or (row[i] == ''):\n",
    "                # If the record is null OR it is an empty string, skip it\n",
    "                continue\n",
    "            else:\n",
    "                value=row[i]\n",
    "                # If the record is in a data type that pymongo doesn't accept, switch it to the right data type\n",
    "                if type(value) == Decimal:\n",
    "                    value = Decimal128(value)\n",
    "                elif type(value) == datetime.date:\n",
    "                    value = datetime.datetime(value.year, value.month, value.day)\n",
    "                    \n",
    "                # Conversion to string\n",
    "                row_title = \"\".join( field_names[i] )  \n",
    "\n",
    "                # Add current record's field's title and value             \n",
    "                cus[row_title] = value\n",
    "                \n",
    "        # We've completed processing this row, insert it into the MongoDB collection      \n",
    "        id = db[collection_name].insert_one(cus).inserted_id"
   ]
  },
  {
   "cell_type": "markdown",
   "metadata": {},
   "source": [
    "Insert the tables stored in the SQL database into the collections of the MongoDB database using the previous function:"
   ]
  },
  {
   "cell_type": "code",
   "execution_count": 10,
   "metadata": {},
   "outputs": [],
   "source": [
    "# insert_sql('Purchasing_PurchaseOrderLines')\n",
    "# insert_sql('Purchasing_PurchaseOrders')\n",
    "# insert_sql('Purchasing_SupplierCategories')\n",
    "# insert_sql('Purchasing_Suppliers')\n",
    "# insert_sql('Sales_CustomerCategories')\n",
    "# insert_sql('Sales_Customers')\n",
    "# insert_sql('Sales_InvoiceLines')\n",
    "# insert_sql('Sales_OrderLines')\n",
    "# insert_sql('Sales_Orders')\n",
    "# insert_sql('Purchasing_SupplierTransactions')\n",
    "# insert_sql('Sales_CustomerTransactions')\n",
    "# insert_sql('Sales_Invoices')"
   ]
  },
  {
   "cell_type": "markdown",
   "metadata": {},
   "source": [
    "### 1.2. Migrate Data from the API (JSON files)"
   ]
  },
  {
   "cell_type": "code",
   "execution_count": 5,
   "metadata": {},
   "outputs": [],
   "source": [
    "# Load all JSON files from the API into Python\n",
    "\n",
    "Application_DeliveryMethods_json = json.loads(urlopen(\"http://rhea.isegi.unl.pt:8080/Project_WWI_Application_DeliveryMethods.json\")\\\n",
    "                                         .read())\n",
    "\n",
    "Application_Cities_json = json.loads(urlopen(\"http://rhea.isegi.unl.pt:8080/Project_WWI_Application_Cities.json\")\\\n",
    "                                         .read())\n",
    "\n",
    "Application_PaymentMethods_json = json.loads(urlopen(\"http://rhea.isegi.unl.pt:8080/Project_WWI_Application_PaymentMethods.json\")\\\n",
    "                                         .read())\n",
    "\n",
    "Application_Countries_json = json.loads(urlopen(\"http://rhea.isegi.unl.pt:8080/Project_WWI_Application_Countries.json\")\\\n",
    "                                         .read())\n",
    "\n",
    "Application_People_json = json.loads(urlopen(\"http://rhea.isegi.unl.pt:8080/Project_WWI_Application_People.json\")\\\n",
    "                                         .read())\n",
    "\n",
    "Application_StateProvinces_json = json.loads(urlopen(\"http://rhea.isegi.unl.pt:8080/Project_WWI_Application_StateProvinces.json\")\\\n",
    "                                         .read())\n",
    "\n",
    "Application_TransactionTypes_json = json.loads(urlopen(\"http://rhea.isegi.unl.pt:8080/Project_WWI_Application_TransactionTypes.json\")\\\n",
    "                                         .read())"
   ]
  },
  {
   "cell_type": "code",
   "execution_count": 6,
   "metadata": {},
   "outputs": [],
   "source": [
    "collection_names = ['Application_DeliveryMethods', 'Application_Cities', 'Application_PaymentMethods', 'Application_Countries',\n",
    "                    'Application_People', 'Application_StateProvinces', 'Application_TransactionTypes']\n",
    "\n",
    "json_files = [Application_DeliveryMethods_json, Application_Cities_json, Application_PaymentMethods_json, Application_Countries_json, \n",
    "              Application_People_json, Application_StateProvinces_json, Application_TransactionTypes_json]"
   ]
  },
  {
   "cell_type": "code",
   "execution_count": 11,
   "metadata": {
    "scrolled": true
   },
   "outputs": [],
   "source": [
    "for j in range(len(collection_names)):\n",
    "    # Create the new collection\n",
    "    db.create_collection(collection_names[j])\n",
    "    \n",
    "    list_ = []\n",
    "\n",
    "    for doc in json_files[j]:\n",
    "        # Get a copy of the doc/dict\n",
    "        temp_doc = deepcopy(doc)\n",
    "\n",
    "        # Check if the current field is null\n",
    "        for i in doc.keys():\n",
    "            if (doc[i] == None) or (doc[i] == ''):\n",
    "                # If the record is null OR it is an empty string, skip it\n",
    "                temp_doc.pop(i)\n",
    "                \n",
    "            else:\n",
    "                # If the record is in a data type that pymongo doesn't accept, switch it to the right data type\n",
    "                if type(doc[i]) == Decimal:\n",
    "                    temp_doc[i] = Decimal128(doc[i])\n",
    "                elif type(doc[i]) == datetime.date:\n",
    "                    temp_doc[i] = datetime.datetime(temp_doc[i].year, temp_doc[i].month, temp_doc[i].day)\n",
    "\n",
    "        # Insert an ObjectId to the document\n",
    "        temp_doc['_id'] = ObjectId()\n",
    "\n",
    "        list_.append(temp_doc)\n",
    "       \n",
    "    # Insert all docs in the respective collection\n",
    "    id = db[collection_names[j]].insert_many(list_)"
   ]
  },
  {
   "cell_type": "markdown",
   "metadata": {},
   "source": [
    "### 1.3. Migrate Data from the CSV files"
   ]
  },
  {
   "cell_type": "code",
   "execution_count": null,
   "metadata": {},
   "outputs": [],
   "source": [
    "collections_names = ['Warehouse_Colors', 'Warehouse_PackageTypes', 'Warehouse_StockGroups', 'Warehouse_StockItems',\n",
    "                     'Warehouse_StockItemStockGroups', 'Warehouse_StockItemTransactions']\n",
    "\n",
    "csv_paths = ['Project_WWI_Warehouse_Colors.csv','Project_WWI_Warehouse_PackageTypes.csv','Project_WWI_Warehouse_StockGroups.csv'\n",
    "             ,'Project_WWI_Warehouse_StockItems.csv','Project_WWI_Warehouse_StockItemStockGroups.csv', 'Project_WWI_Warehouse_StockItemTransactions.csv']"
   ]
  },
  {
   "cell_type": "code",
   "execution_count": null,
   "metadata": {},
   "outputs": [],
   "source": [
    "for coll in range(len(collections_names)):\n",
    "\n",
    "    for j in range(len(csv_paths)):\n",
    "        # If the coll is equal to j in csv paths, it means they refer the same csv\n",
    "        if coll == j:\n",
    "            # Create the new collection\n",
    "            db.create_collection(collections_names[coll])\n",
    "            reader = pd.read_csv(csv_paths[j]).to_dict(orient='records')\n",
    "            list_ = []\n",
    "    \n",
    "            for doc in reader:\n",
    "                # Create a copy of the original document to make changes\n",
    "                temp_doc = deepcopy(doc)\n",
    "                \n",
    "                for key in doc.keys():\n",
    "                    # If the value of the key of the document is a string, skip it\n",
    "                    if isinstance(doc[i], str): \n",
    "                        continue\n",
    "                    # If the value of the key of the document is a nan, delete the key and the value from that document \n",
    "                    elif math.isnan(doc[i]):\n",
    "                        temp_doc.pop(i)\n",
    "                \n",
    "                # Add the ObjectId to uniquely identify a document to the copy of the original document and append it to a list_\n",
    "                temp_doc['_id'] = ObjectId()\n",
    "                list_.append(temp_doc)\n",
    "            \n",
    "            # Insert all documents of the list_ in the collection created before\n",
    "            db[collections_names[coll]].insert_many(list_)"
   ]
  },
  {
   "cell_type": "markdown",
   "metadata": {},
   "source": [
    "## 2. Embedding stage"
   ]
  },
  {
   "cell_type": "markdown",
   "metadata": {},
   "source": [
    "Embedd Application_StateProvinces and Application_Countries"
   ]
  },
  {
   "cell_type": "code",
   "execution_count": 17,
   "metadata": {},
   "outputs": [
    {
     "data": {
      "text/plain": [
       "[]"
      ]
     },
     "execution_count": 17,
     "metadata": {},
     "output_type": "execute_result"
    }
   ],
   "source": [
    "query = [{\n",
    "        \"$lookup\":{\n",
    "           \"from\": \"Application_Countries\",\n",
    "           \"localField\": \"CountryID\",\n",
    "           \"foreignField\": \"CountryID\",\n",
    "           \"as\": \"country\"\n",
    "        }\n",
    "    },{\n",
    "        \"$merge\" : {\n",
    "            \"into\" : \"Countries_StateProvinces\",\n",
    "            \"whenMatched\": \"merge\"\n",
    "        }\n",
    "    }\n",
    "]\n",
    "\n",
    "pipeline = [query]\n",
    "\n",
    "r = db.Application_StateProvinces.aggregate(query)\n",
    "\n",
    "list(r)"
   ]
  },
  {
   "cell_type": "markdown",
   "metadata": {},
   "source": [
    "Embedd Countries_StateProvinces and Application_Cities"
   ]
  },
  {
   "cell_type": "code",
   "execution_count": 19,
   "metadata": {},
   "outputs": [
    {
     "data": {
      "text/plain": [
       "[]"
      ]
     },
     "execution_count": 19,
     "metadata": {},
     "output_type": "execute_result"
    }
   ],
   "source": [
    "query = [{\n",
    "        \"$lookup\":{\n",
    "           \"from\": \"Countries_StateProvinces\",\n",
    "           \"localField\": \"StateProvinceID\",\n",
    "           \"foreignField\": \"StateProvinceID\",\n",
    "           \"as\": \"state\"\n",
    "        }\n",
    "    },{\n",
    "        \"$merge\" : {\n",
    "            \"into\" : \"Countries_StateProvinces_Cities\",\n",
    "            \"whenMatched\": \"merge\"\n",
    "        }\n",
    "    }\n",
    "]\n",
    "\n",
    "pipeline = [query]\n",
    "\n",
    "r = db.Application_Cities.aggregate(query)\n",
    "\n",
    "list(r)"
   ]
  },
  {
   "cell_type": "markdown",
   "metadata": {},
   "source": [
    "Embedd Sales_OrderLines inside Warehouse_StockItems\n"
   ]
  },
  {
   "cell_type": "code",
   "execution_count": null,
   "metadata": {},
   "outputs": [],
   "source": [
    "query = [{\n",
    "        \"$lookup\":{\n",
    "           \"from\": \"Sales_OrderLines\",\n",
    "           \"localField\": \"StockItemID\",\n",
    "           \"foreignField\": \"StockItemID\",\n",
    "           \"as\": \"stock_item\"\n",
    "        }\n",
    "    },{\n",
    "        \"$merge\" : {\n",
    "            \"into\" : \"Sales_OrderLines_Warehouse_StockItems\",\n",
    "            \"whenMatched\": \"merge\"\n",
    "        }\n",
    "    }\n",
    "]\n",
    "\n",
    "pipeline = [query]\n",
    "\n",
    "r = db.Warehouse_StockItems.aggregate(query)\n",
    "\n",
    "list(r)"
   ]
  },
  {
   "cell_type": "markdown",
   "metadata": {},
   "source": [
    "Embedd Sales_OrderLines and Sales_Orders"
   ]
  },
  {
   "cell_type": "code",
   "execution_count": 4,
   "metadata": {},
   "outputs": [
    {
     "data": {
      "text/plain": [
       "[]"
      ]
     },
     "execution_count": 4,
     "metadata": {},
     "output_type": "execute_result"
    }
   ],
   "source": [
    "query = [{\n",
    "        \"$lookup\":{\n",
    "           \"from\": \"Sales_OrderLines\",\n",
    "           \"localField\": \"OrderID\",\n",
    "           \"foreignField\": \"OrderID\",\n",
    "           \"as\": \"order_lines\"\n",
    "        }\n",
    "    },{\n",
    "        \"$merge\" : {\n",
    "            \"into\" : \"All_Sales_Orders\",\n",
    "            \"whenMatched\": \"merge\"\n",
    "        }\n",
    "    }\n",
    "]\n",
    "\n",
    "pipeline = [query]\n",
    "\n",
    "r = db.Sales_Orders.aggregate(query)\n",
    "\n",
    "list(r)"
   ]
  },
  {
   "cell_type": "markdown",
   "metadata": {},
   "source": [
    "Embedd Application_PaymentMethods inside Purchasing_SupplierTransactions"
   ]
  },
  {
   "cell_type": "code",
   "execution_count": null,
   "metadata": {},
   "outputs": [],
   "source": [
    "query = [{\n",
    "        \"$lookup\":{\n",
    "           \"from\": \"Application_PaymentMethods\",\n",
    "           \"localField\": \"PaymentMethodID\",\n",
    "           \"foreignField\": \"PaymentMethodID\",\n",
    "           \"as\": \"payment_method\"\n",
    "        }\n",
    "    },{\n",
    "        \"$merge\" : {\n",
    "            \"into\" : \"Purchasing_SupplierTransactions_PaymentMethod\",\n",
    "            \"whenMatched\": \"merge\"\n",
    "        }\n",
    "    }\n",
    "]\n",
    "\n",
    "pipeline = [query]\n",
    "\n",
    "r = db.Purchasing_SupplierTransactions.aggregate(query)\n",
    "\n",
    "list(r)"
   ]
  },
  {
   "cell_type": "markdown",
   "metadata": {},
   "source": [
    "Embedd Application_PaymentMethods inside Sales_CustomerTransactions"
   ]
  },
  {
   "cell_type": "code",
   "execution_count": 179,
   "metadata": {},
   "outputs": [],
   "source": [
    "query = [{\n",
    "        \"$lookup\":{\n",
    "           \"from\": \"Application_PaymentMethods\",\n",
    "           \"localField\": \"PaymentMethodID\",\n",
    "           \"foreignField\": \"PaymentMethodID\",\n",
    "           \"as\": \"payment_method\"\n",
    "        }\n",
    "    },{\n",
    "        \"$merge\" : {\n",
    "            \"into\" : \"Sales_CustomerTransactions_PaymentMethod\",\n",
    "            \"whenMatched\": \"merge\"\n",
    "        }\n",
    "    }\n",
    "]\n",
    "\n",
    "pipeline = [query]\n",
    "\n",
    "r = db.Sales_CustomerTransactions.aggregate(query)\n",
    "\n",
    "list(r)"
   ]
  },
  {
   "cell_type": "markdown",
   "metadata": {},
   "source": [
    "Embedd PurchasingSupplierCategories inside PurchasingSuppliers "
   ]
  },
  {
   "cell_type": "code",
   "execution_count": null,
   "metadata": {},
   "outputs": [],
   "source": [
    "query = [{\n",
    "        \"$lookup\":{\n",
    "           \"from\": \"Purchasing_SupplierCategories\",\n",
    "           \"localField\": \"SupplierCategoryID\",\n",
    "           \"foreignField\": \"SupplierCategoryID\",\n",
    "           \"as\": \"purchasing_suppliers_categories\"\n",
    "        }\n",
    "    },{\n",
    "        \"$merge\" : {\n",
    "            \"into\" : \"All_Purchasing_Supplier_Categories\",\n",
    "            \"whenMatched\": \"merge\"\n",
    "        }\n",
    "    }\n",
    "]\n",
    "\n",
    "pipeline = [query]\n",
    "\n",
    "r = db.Purchasing_Suppliers.aggregate(query)\n",
    "\n",
    "list(r)"
   ]
  },
  {
   "cell_type": "markdown",
   "metadata": {},
   "source": [
    "Embedd All_Purchasing_Supplier_Categories inside Purchasing_SupplierTransactions "
   ]
  },
  {
   "cell_type": "code",
   "execution_count": 6,
   "metadata": {},
   "outputs": [
    {
     "data": {
      "text/plain": [
       "[]"
      ]
     },
     "execution_count": 6,
     "metadata": {},
     "output_type": "execute_result"
    }
   ],
   "source": [
    "query = [{\n",
    "        \"$lookup\":{\n",
    "           \"from\": \"All_Purchasing_Supplier_Categories\",\n",
    "           \"localField\": \"SupplierID\",\n",
    "           \"foreignField\": \"SupplierID\",\n",
    "           \"as\": \"purchasing_suppliers_categories_transactions\"\n",
    "        }\n",
    "    },{\n",
    "        \"$merge\" : {\n",
    "            \"into\" : \"All_Purchasing_Supplier_Categories_Transactions\",\n",
    "            \"whenMatched\": \"merge\"\n",
    "        }\n",
    "    }\n",
    "]\n",
    "\n",
    "pipeline = [query]\n",
    "\n",
    "r = db.Purchasing_SupplierTransactions.aggregate(query)\n",
    "\n",
    "list(r)"
   ]
  },
  {
   "cell_type": "markdown",
   "metadata": {},
   "source": [
    "Embedd Sales_InvoiceLines and Sales_Invoices"
   ]
  },
  {
   "cell_type": "code",
   "execution_count": 9,
   "metadata": {},
   "outputs": [
    {
     "data": {
      "text/plain": [
       "[]"
      ]
     },
     "execution_count": 9,
     "metadata": {},
     "output_type": "execute_result"
    }
   ],
   "source": [
    "query = [{\n",
    "        \"$lookup\":{\n",
    "           \"from\": \"Sales_InvoiceLines\",\n",
    "           \"localField\": \"InvoiceID\",\n",
    "           \"foreignField\": \"InvoiceID\",\n",
    "           \"as\": \"invoice_lines\"\n",
    "        }\n",
    "    },{\n",
    "        \"$merge\" : {\n",
    "            \"into\" : \"All_Sales_Invoices\",\n",
    "            \"whenMatched\": \"merge\"\n",
    "        }\n",
    "    }\n",
    "]\n",
    "\n",
    "pipeline = [query]\n",
    "\n",
    "r = db.Sales_Invoices.aggregate(query)\n",
    "\n",
    "list(r)"
   ]
  },
  {
   "cell_type": "markdown",
   "metadata": {},
   "source": [
    "## 3. Create Field"
   ]
  },
  {
   "cell_type": "markdown",
   "metadata": {},
   "source": [
    "Add the 'Items_Description' array with the Items descriptions for each Order in All_Sales_Orders."
   ]
  },
  {
   "cell_type": "code",
   "execution_count": 4,
   "metadata": {},
   "outputs": [],
   "source": [
    "for doc in db.All_Sales_Orders.find():\n",
    "    list_items = []\n",
    "    for doc_order in doc['order_lines']:\n",
    "        list_items.append(doc_order['Description'])\n",
    "        db.All_Sales_Orders.update_one(doc, { \"$set\": { \"Items_Description\": list_items } })"
   ]
  },
  {
   "cell_type": "markdown",
   "metadata": {},
   "source": [
    "Geospatial field 'DeliveryLocationCoordinates' in Sales_Customers."
   ]
  },
  {
   "cell_type": "code",
   "execution_count": 73,
   "metadata": {},
   "outputs": [],
   "source": [
    "for doc in db.Sales_Customers.find():\n",
    "    list_coords = [] \n",
    "    list_coords.append(doc['DeliveryLocationLat'])\n",
    "    list_coords.append(doc['DeliveryLocationLong'])\n",
    "    db.Sales_Customers.update_one(doc, { \"$set\": { \"DeliveryLocationCoordinates\": list_coords } })"
   ]
  },
  {
   "cell_type": "markdown",
   "metadata": {},
   "source": [
    "Delete 'DeliveryLocationLat' and 'DeliveryLocationLong' from Sales_Customers."
   ]
  },
  {
   "cell_type": "code",
   "execution_count": 77,
   "metadata": {},
   "outputs": [
    {
     "data": {
      "text/plain": [
       "<pymongo.results.UpdateResult at 0x275001ca600>"
      ]
     },
     "execution_count": 77,
     "metadata": {},
     "output_type": "execute_result"
    }
   ],
   "source": [
    "db.Sales_Customers.update_many({}, {'$unset':{\"DeliveryLocationLat\":1}})\n",
    "db.Sales_Customers.update_many({}, {'$unset':{\"DeliveryLocationLong\":1}})"
   ]
  },
  {
   "cell_type": "markdown",
   "metadata": {},
   "source": [
    "## 4. Indexes"
   ]
  },
  {
   "cell_type": "markdown",
   "metadata": {},
   "source": [
    "Ascending index on DeliveryCityID in Purchasing_Suppliers"
   ]
  },
  {
   "cell_type": "code",
   "execution_count": null,
   "metadata": {},
   "outputs": [],
   "source": [
    "db.Purchasing_Suppliers.create_index(\n",
    "    [('DeliveryCityID', 1)],\n",
    "    name='DeliveryCityID', \n",
    ")"
   ]
  },
  {
   "cell_type": "markdown",
   "metadata": {},
   "source": [
    "Ascending index on CityID in Countries_StateProvinces_Cities"
   ]
  },
  {
   "cell_type": "code",
   "execution_count": null,
   "metadata": {},
   "outputs": [],
   "source": [
    "db.Countries_StateProvinces_Cities.create_index(\n",
    "    [('CityID', 1)],\n",
    "    name='CityID', \n",
    ")"
   ]
  },
  {
   "cell_type": "markdown",
   "metadata": {},
   "source": [
    "Ascending index on DeliveryCityID in Sales_Customers"
   ]
  },
  {
   "cell_type": "code",
   "execution_count": null,
   "metadata": {},
   "outputs": [],
   "source": [
    "db.Sales_Customers.create_index(\n",
    "    [('DeliveryCityID', 1)],\n",
    "    name='DeliveryCityID', \n",
    ")"
   ]
  },
  {
   "cell_type": "markdown",
   "metadata": {},
   "source": [
    "Ascending index on OrderID in All_Sales_Orders"
   ]
  },
  {
   "cell_type": "code",
   "execution_count": 8,
   "metadata": {},
   "outputs": [
    {
     "data": {
      "text/plain": [
       "'OrderID_index'"
      ]
     },
     "execution_count": 8,
     "metadata": {},
     "output_type": "execute_result"
    }
   ],
   "source": [
    "db.All_Sales_Orders.create_index(\n",
    "    [('OrderID', 1)],\n",
    "    name='OrderID_index', \n",
    ")"
   ]
  },
  {
   "cell_type": "markdown",
   "metadata": {},
   "source": [
    "Ascending index on Description in All_Sales_Orders"
   ]
  },
  {
   "cell_type": "code",
   "execution_count": 9,
   "metadata": {},
   "outputs": [
    {
     "data": {
      "text/plain": [
       "'Description_index'"
      ]
     },
     "execution_count": 9,
     "metadata": {},
     "output_type": "execute_result"
    }
   ],
   "source": [
    "db.All_Sales_Orders.create_index(\n",
    "    [('orderlines.Description', 1)],\n",
    "    name='Description_index', \n",
    ")"
   ]
  },
  {
   "cell_type": "markdown",
   "metadata": {},
   "source": [
    "Descending index on Quantity in Sales_OrderLines_Warehouse_StockItems"
   ]
  },
  {
   "cell_type": "code",
   "execution_count": null,
   "metadata": {},
   "outputs": [],
   "source": [
    "db.Sales_OrderLines_Warehouse_StockItems.create_index(\n",
    "    [('stock_item.Quantity', -1)],\n",
    "    name='Quantity_index', \n",
    ")"
   ]
  },
  {
   "cell_type": "markdown",
   "metadata": {},
   "source": [
    "Geospatial index in Sales_Customers"
   ]
  },
  {
   "cell_type": "code",
   "execution_count": 5,
   "metadata": {},
   "outputs": [
    {
     "data": {
      "text/plain": [
       "'DeliveryLocationCoordinates_index'"
      ]
     },
     "execution_count": 5,
     "metadata": {},
     "output_type": "execute_result"
    }
   ],
   "source": [
    "db.Sales_Customers.create_index([(\"DeliveryLocationCoordinates\", GEO2D)],\n",
    "                                  name = 'DeliveryLocationCoordinates_index')"
   ]
  },
  {
   "cell_type": "markdown",
   "metadata": {},
   "source": [
    "Ascending index on OrderDate in All_Sales_Orders"
   ]
  },
  {
   "cell_type": "code",
   "execution_count": null,
   "metadata": {},
   "outputs": [],
   "source": [
    "db.All_Sales_Orders.create_index(\n",
    "    [('OrderDate', 1)],\n",
    "    name='OrderDate_index', \n",
    ")"
   ]
  },
  {
   "cell_type": "markdown",
   "metadata": {},
   "source": [
    "Compound index on TransactionDate and SupplierID in All_Purchasing_Supplier_Categories_Transactions"
   ]
  },
  {
   "cell_type": "code",
   "execution_count": 7,
   "metadata": {},
   "outputs": [
    {
     "data": {
      "text/plain": [
       "'TransactionDate_SupplierID_index'"
      ]
     },
     "execution_count": 7,
     "metadata": {},
     "output_type": "execute_result"
    }
   ],
   "source": [
    "db.All_Purchasing_Supplier_Categories_Transactions.create_index(\n",
    "    [('TransactionDate', 1), ('SupplierID', 1)],\n",
    "    name='TransactionDate_SupplierID_index',\n",
    ")"
   ]
  },
  {
   "cell_type": "markdown",
   "metadata": {},
   "source": [
    "Ascending index on PaymentMethodID in Purchasing_SupplierTransactions_PaymentMethod"
   ]
  },
  {
   "cell_type": "code",
   "execution_count": null,
   "metadata": {},
   "outputs": [],
   "source": [
    "db.Purchasing_SupplierTransactions_PaymentMethod.create_index(\n",
    "    [('PaymentMethodID', 1)],\n",
    "    name='PaymentMethod_index',\n",
    ")"
   ]
  },
  {
   "cell_type": "markdown",
   "metadata": {},
   "source": [
    "Ascending index on PaymentMethodID in Sales_CustomerTransactions_PaymentMethod"
   ]
  },
  {
   "cell_type": "code",
   "execution_count": null,
   "metadata": {},
   "outputs": [],
   "source": [
    "db.Sales_CustomerTransactions_PaymentMethod.create_index(\n",
    "    [('PaymentMethodID', 1)],\n",
    "    name='PaymentMethod_ID2',\n",
    ")"
   ]
  },
  {
   "cell_type": "markdown",
   "metadata": {},
   "source": [
    "Ascending index on PersonID in Application_People"
   ]
  },
  {
   "cell_type": "code",
   "execution_count": null,
   "metadata": {},
   "outputs": [],
   "source": [
    "db.Application_People.create_index(\n",
    "    [('PersonID', 1)],\n",
    "    name='PersonID', \n",
    ")"
   ]
  },
  {
   "cell_type": "markdown",
   "metadata": {},
   "source": [
    "Ascending index on SalespersonPersonID in All_Sales_Invoices"
   ]
  },
  {
   "cell_type": "code",
   "execution_count": null,
   "metadata": {},
   "outputs": [],
   "source": [
    "db.All_Sales_Invoices.create_index(\n",
    "    [('SalespersonPersonID', 1)],\n",
    "    name='SalespersonPersonID', \n",
    ")"
   ]
  },
  {
   "cell_type": "markdown",
   "metadata": {},
   "source": [
    "Ascending index on FullName in Application_People"
   ]
  },
  {
   "cell_type": "code",
   "execution_count": null,
   "metadata": {},
   "outputs": [],
   "source": [
    "db.Application_People.create_index(\n",
    "    [('FullName', 1)],\n",
    "    name='FullName', \n",
    ")"
   ]
  },
  {
   "cell_type": "markdown",
   "metadata": {},
   "source": [
    "Ascending index on InvoiceDate in All_Sales_Invoices"
   ]
  },
  {
   "cell_type": "code",
   "execution_count": null,
   "metadata": {},
   "outputs": [],
   "source": [
    "db.All_Sales_Invoices.create_index(\n",
    "    [('InvoiceDate', 1)],\n",
    "    name='InvoiceDate', \n",
    ")"
   ]
  }
 ],
 "metadata": {
  "kernelspec": {
   "display_name": "Python 3",
   "language": "python",
   "name": "python3"
  },
  "language_info": {
   "codemirror_mode": {
    "name": "ipython",
    "version": 3
   },
   "file_extension": ".py",
   "mimetype": "text/x-python",
   "name": "python",
   "nbconvert_exporter": "python",
   "pygments_lexer": "ipython3",
   "version": "3.8.5"
  },
  "metadata": {
   "interpreter": {
    "hash": "1baa965d5efe3ac65b79dfc60c0d706280b1da80fedb7760faf2759126c4f253"
   }
  }
 },
 "nbformat": 4,
 "nbformat_minor": 4
}
