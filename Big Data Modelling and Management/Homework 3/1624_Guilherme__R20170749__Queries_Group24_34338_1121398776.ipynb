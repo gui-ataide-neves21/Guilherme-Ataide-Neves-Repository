{
 "cells": [
  {
   "cell_type": "markdown",
   "metadata": {},
   "source": [
    "# Big Data Modelling and Management - Queries\n",
    "\n",
    "**Group 24 members:** <br>\n",
    "Filipe Lourenço (R20170799), <br>\n",
    "Guilherme Neves (R20170749), <br>\n",
    "Rui Monteiro (R20170796), <br>\n",
    "Vasco Pestana (R20170803)\n",
    "\n",
    "**MSc:** Data Science and Advanced Analytics - Nova IMS <br>\n",
    "2020/2021"
   ]
  },
  {
   "cell_type": "code",
   "execution_count": 12,
   "metadata": {},
   "outputs": [],
   "source": [
    "from pymongo import MongoClient, DESCENDING, ASCENDING, TEXT, GEO2D\n",
    "import mysql.connector\n",
    "from bson.objectid import ObjectId\n",
    "from bson.decimal128 import Decimal128\n",
    "import datetime\n",
    "from decimal import *\n",
    "from urllib.request import urlopen\n",
    "import json\n",
    "import csv\n",
    "from copy import deepcopy\n",
    "import pandas as pd\n",
    "from bson.son import SON"
   ]
  },
  {
   "cell_type": "markdown",
   "metadata": {},
   "source": [
    "### Connecting to the MongoDB database"
   ]
  },
  {
   "cell_type": "code",
   "execution_count": 13,
   "metadata": {},
   "outputs": [],
   "source": [
    "host=\"rhea.isegi.unl.pt\"\n",
    "port=\"27041\"\n",
    "user=\"GROUP_24\"\n",
    "password=\"T0b5Sez8prB8jo9ohdb907GL5U0S24GX\"\n",
    "protocol=\"mongodb\"\n",
    "client = MongoClient(f\"{protocol}://{user}:{password}@{host}:{port}\")\n",
    "db = client.WWI"
   ]
  },
  {
   "cell_type": "markdown",
   "metadata": {},
   "source": [
    "## Web Team\n",
    "1. From which states are our suppliers from?"
   ]
  },
  {
   "cell_type": "code",
   "execution_count": 5,
   "metadata": {},
   "outputs": [
    {
     "data": {
      "text/plain": [
       "[{'_id': {'state': [['California']]}, 'number_suppliers': 23},\n",
       " {'_id': {'state': [['Tennessee']]}, 'number_suppliers': 14},\n",
       " {'_id': {'state': [['Minnesota']]}, 'number_suppliers': 12},\n",
       " {'_id': {'state': [['South Dakota']]}, 'number_suppliers': 11},\n",
       " {'_id': {'state': [['New Jersey']]}, 'number_suppliers': 10},\n",
       " {'_id': {'state': [['North Carolina']]}, 'number_suppliers': 9},\n",
       " {'_id': {'state': [['Missouri']]}, 'number_suppliers': 5},\n",
       " {'_id': {'state': [['Kentucky']]}, 'number_suppliers': 4},\n",
       " {'_id': {'state': [['Washington']]}, 'number_suppliers': 2},\n",
       " {'_id': {'state': [['Indiana']]}, 'number_suppliers': 1}]"
      ]
     },
     "execution_count": 5,
     "metadata": {},
     "output_type": "execute_result"
    }
   ],
   "source": [
    "lookup_query = {\n",
    "        \"$lookup\":{\n",
    "           \"from\": \"Countries_StateProvinces_Cities\",\n",
    "           \"localField\": \"DeliveryCityID\",\n",
    "           \"foreignField\": \"CityID\",\n",
    "           \"as\": \"delivery_city\"\n",
    "        }\n",
    "    }\n",
    "\n",
    "group_query = { \n",
    "        \"$group\" : {\n",
    "            \"_id\" : {\"state\":\"$delivery_city.state.StateProvinceName\"},\n",
    "            \"number_suppliers\": {\"$sum\": \"$SupplierID\"}\n",
    "        } \n",
    "    }\n",
    "\n",
    "sort_query = { \n",
    "        \"$sort\" : {\n",
    "            \"number_suppliers\" : -1\n",
    "        } \n",
    "    }\n",
    "    \n",
    "\n",
    "pipeline = [lookup_query, group_query, sort_query]\n",
    "\n",
    "r = db.Purchasing_Suppliers.aggregate(pipeline)\n",
    "\n",
    "Result_Q1 = list(r)\n",
    "\n",
    "Result_Q1"
   ]
  },
  {
   "cell_type": "markdown",
   "metadata": {},
   "source": [
    "2. From which state province are the customers who have a higher credit limit?"
   ]
  },
  {
   "cell_type": "code",
   "execution_count": 6,
   "metadata": {},
   "outputs": [
    {
     "data": {
      "text/plain": [
       "[{'_id': {'state': [['Tennessee']]},\n",
       "  'credit_limit_avg': Decimal128('3157.50')}]"
      ]
     },
     "execution_count": 6,
     "metadata": {},
     "output_type": "execute_result"
    }
   ],
   "source": [
    "lookup_query = {\n",
    "        \"$lookup\":{\n",
    "           \"from\": \"Countries_StateProvinces_Cities\",\n",
    "           \"localField\": \"DeliveryCityID\",\n",
    "           \"foreignField\": \"CityID\",\n",
    "           \"as\": \"delivery_city\"\n",
    "        }\n",
    "    }\n",
    "\n",
    "group_query = { \n",
    "        \"$group\" : {\n",
    "            \"_id\" : {\"state\":\"$delivery_city.state.StateProvinceName\"},\n",
    "            \"credit_limit_avg\": {\"$avg\": \"$CreditLimit\"}\n",
    "        } \n",
    "    }\n",
    "\n",
    "sort_query = { \n",
    "        \"$sort\" : {\n",
    "            \"credit_limit_avg\" : -1\n",
    "        } \n",
    "    }\n",
    "\n",
    "limit_query = { \n",
    "        \"$limit\" : 1\n",
    "    } \n",
    "    \n",
    "pipeline = [lookup_query, group_query, sort_query, limit_query]\n",
    "\n",
    "r = db.Sales_Customers.aggregate(pipeline)\n",
    "\n",
    "Result_Q2 = list(r)\n",
    "\n",
    "Result_Q2"
   ]
  },
  {
   "cell_type": "markdown",
   "metadata": {},
   "source": [
    "## Warehouse Group\n",
    "3. To know which items get ordered together the most?"
   ]
  },
  {
   "cell_type": "code",
   "execution_count": 48,
   "metadata": {},
   "outputs": [
    {
     "data": {
      "text/plain": [
       "[{'_id': {'Items_Description': ['10 mm Double sided bubble wrap 20m',\n",
       "    'Large  replacement blades 18mm']},\n",
       "  'count': 2},\n",
       " {'_id': {'Items_Description': ['32 mm Anti static bubble wrap (Blue) 20m',\n",
       "    'Developer joke mug - a foo walks into a bar (White)']},\n",
       "  'count': 2},\n",
       " {'_id': {'Items_Description': ['Black and orange glass with care despatch tape  48mmx100m',\n",
       "    'Ride on big wheel monster truck (Black) 1/12 scale']},\n",
       "  'count': 2},\n",
       " {'_id': {'Items_Description': ['Dinosaur battery-powered slippers (Green) M',\n",
       "    'Large sized bubblewrap roll 50m',\n",
       "    '\"The Gu\" red shirt XML tag t-shirt (White) S']},\n",
       "  'count': 2},\n",
       " {'_id': {'Items_Description': ['20 mm Anti static bubble wrap (Blue) 10m',\n",
       "    'Clear packaging tape 48mmx100m']},\n",
       "  'count': 2},\n",
       " {'_id': {'Items_Description': ['USB food flash drive - fortune cookie',\n",
       "    'Ride on toy sedan car (Pink) 1/12 scale']},\n",
       "  'count': 2},\n",
       " {'_id': {'Items_Description': ['USB missile launcher (Green)',\n",
       "    'Red and white urgent  heavy despatch tape  48mmx100m']},\n",
       "  'count': 2},\n",
       " {'_id': {'Items_Description': ['DBA joke mug - two types of DBAs (Black)',\n",
       "    'Ride on toy sedan car (Green) 1/12 scale']},\n",
       "  'count': 2},\n",
       " {'_id': {'Items_Description': ['\"The Gu\" red shirt XML tag t-shirt (Black) XXS',\n",
       "    'RC toy sedan car with remote control (Blue) 1/50 scale']},\n",
       "  'count': 2},\n",
       " {'_id': {'Items_Description': ['Developer joke mug - Oct 31 = Dec 25 (Black)',\n",
       "    'Pack of 12 action figures (variety)']},\n",
       "  'count': 2},\n",
       " {'_id': {'Items_Description': ['IT joke mug - keyboard not found … press F1 to continue (Black)',\n",
       "    'Packing knife with metal insert blade (Yellow) 9mm']},\n",
       "  'count': 2},\n",
       " {'_id': {'Items_Description': ['Developer joke mug - when your hammer is C++ (Black)',\n",
       "    'Furry gorilla with big eyes slippers (Black) M']},\n",
       "  'count': 2},\n",
       " {'_id': {'Items_Description': ['Developer joke mug - inheritance is the OO way to become wealthy (White)',\n",
       "    'USB food flash drive - cookie']},\n",
       "  'count': 2},\n",
       " {'_id': {'Items_Description': ['RC toy sedan car with remote control (Red) 1/50 scale',\n",
       "    'Ogre battery-powered slippers (Green) L']},\n",
       "  'count': 2},\n",
       " {'_id': {'Items_Description': ['DBA joke mug - it depends (White)',\n",
       "    'Black and orange this way up despatch tape 48mmx75m']},\n",
       "  'count': 2}]"
      ]
     },
     "execution_count": 48,
     "metadata": {},
     "output_type": "execute_result"
    }
   ],
   "source": [
    "match_query_1 = {\n",
    "    '$match': {\n",
    "        'Items_Description': { \"$exists\": True }\n",
    "    }\n",
    "}\n",
    "\n",
    "project_query = {\n",
    "    '$project': {\n",
    "        'Items_Description': 1,\n",
    "        'array_size': { \"$size\": \"$Items_Description\" }\n",
    "    }\n",
    "}\n",
    "\n",
    "match_query_2 = {\n",
    "    '$match': {\n",
    "        'array_size': { \"$gt\": 1 }\n",
    "    }\n",
    "}\n",
    "\n",
    "groupby_query = {\n",
    "    '$group':{\n",
    "        '_id': {'Items_Description': '$Items_Description'},\n",
    "        'count': {'$sum': 1}\n",
    "    }\n",
    "}\n",
    "\n",
    "sort_query = {\n",
    "    '$sort': {'count': -1}\n",
    "}\n",
    "\n",
    "limit_query = {\n",
    "    '$limit': 15\n",
    "}\n",
    "\n",
    "pipeline = [match_query_1, project_query, match_query_2, groupby_query, sort_query, limit_query]\n",
    "\n",
    "r = db.All_Sales_Orders.aggregate(pipeline)\n",
    "\n",
    "Result_Q3 = list(r)\n",
    "\n",
    "Result_Q3"
   ]
  },
  {
   "cell_type": "markdown",
   "metadata": {},
   "source": [
    "4. Which items get ordered the most in bulk (bigger amounts)?"
   ]
  },
  {
   "cell_type": "code",
   "execution_count": 22,
   "metadata": {},
   "outputs": [
    {
     "data": {
      "text/plain": [
       "[{'_id': {'StockItemName': '\"The Gu\" red shirt XML tag t-shirt (White) XXL'},\n",
       "  'Rounded_Avg_Quantity': 68.0},\n",
       " {'_id': {'StockItemName': 'Developer joke mug - this code was generated by a tool (White)'},\n",
       "  'Rounded_Avg_Quantity': 6.0},\n",
       " {'_id': {'StockItemName': '\"The Gu\" red shirt XML tag t-shirt (White) S'},\n",
       "  'Rounded_Avg_Quantity': 70.0}]"
      ]
     },
     "execution_count": 22,
     "metadata": {},
     "output_type": "execute_result"
    }
   ],
   "source": [
    "unwind_query = {\n",
    "    \"$unwind\": \"$stock_item\"\n",
    "}\n",
    "\n",
    "match_query = {\n",
    "    '$match': {'stock_item.Quantity': {'$gt':0}}\n",
    "}\n",
    "\n",
    "groupby_query = {\n",
    "    '$group':{\n",
    "        '_id':{'StockItemName':'$StockItemName'},\n",
    "        'Count': {'$sum': 1},\n",
    "        'Average_Quantity': {'$avg':'$stock_item.Quantity'}}\n",
    "}\n",
    "\n",
    "sort_query = {\n",
    "    '$sort': {'Count':-1, 'Average_Quantity':-1}\n",
    "}\n",
    "\n",
    "project_query = {\n",
    "    '$project': {\n",
    "        \"Rounded_Avg_Quantity\": {\"$round\": [\"$Average_Quantity\", 0] }\n",
    "    }\n",
    "}\n",
    "\n",
    "limit_query = {\n",
    "    '$limit': 3\n",
    "}\n",
    "\n",
    "pipeline = [unwind_query, match_query, groupby_query, sort_query, project_query, limit_query]\n",
    "\n",
    "r = db.Sales_OrderLines_Warehouse_StockItems.aggregate(pipeline)\n",
    "\n",
    "Result_Q4 = list(r)\n",
    "\n",
    "Result_Q4"
   ]
  },
  {
   "cell_type": "markdown",
   "metadata": {},
   "source": [
    "5. Which customers have delivery addresses under 10km of distance to the customer with customerID 961?"
   ]
  },
  {
   "cell_type": "code",
   "execution_count": 10,
   "metadata": {},
   "outputs": [
    {
     "data": {
      "text/plain": [
       "[{'_id': ObjectId('60b17444b18bb0a6dfaf7369'),\n",
       "  'CustomerName': 'Rani Ganguly',\n",
       "  'DeliveryPostalCode': '90567',\n",
       "  'PostalAddressLine2': 'Benjareeville',\n",
       "  'DeliveryLocationCoordinates': [34.23, -117.263]},\n",
       " {'_id': ObjectId('60b17443b18bb0a6dfaf72fc'),\n",
       "  'CustomerName': 'Dominic Davignon',\n",
       "  'DeliveryPostalCode': '90192',\n",
       "  'PostalAddressLine2': 'Glissenville',\n",
       "  'DeliveryLocationCoordinates': [34.2389, -117.234]},\n",
       " {'_id': ObjectId('60b1743db18bb0a6dfaf71a8'),\n",
       "  'CustomerName': 'Malorie Bousquet',\n",
       "  'DeliveryPostalCode': '90005',\n",
       "  'PostalAddressLine2': 'Biteville',\n",
       "  'DeliveryLocationCoordinates': [34.235, -117.308]}]"
      ]
     },
     "execution_count": 10,
     "metadata": {},
     "output_type": "execute_result"
    }
   ],
   "source": [
    "# Query the coordinates of the client with the CustomerID equal to 961\n",
    "coords_client_961 = list(db.Sales_Customers.find({'CustomerID': 961}))[0]['DeliveryLocationCoordinates']\n",
    "\n",
    "# 1 km equals 111.12 degrees values, so the max distance of 10km must be divided by 111.12 to obtain the maximum distance\n",
    "# between customers in degrees.\n",
    "geo_query = {\"DeliveryLocationCoordinates\": SON([(\"$near\", coords_client_961), (\"$maxDistance\", 10/111.12)])}\n",
    "\n",
    "project_query = {'CustomerName':1, 'DeliveryPostalCode':1, 'PostalAddressLine2':1, 'DeliveryLocationCoordinates':1}\n",
    "\n",
    "Result_Q5 = list(db.Sales_Customers.find(geo_query, project_query))\n",
    "\n",
    "Result_Q5"
   ]
  },
  {
   "cell_type": "markdown",
   "metadata": {},
   "source": [
    "## CFO\n",
    "6. Would like to know the monthly order count?"
   ]
  },
  {
   "cell_type": "code",
   "execution_count": 18,
   "metadata": {},
   "outputs": [
    {
     "data": {
      "text/plain": [
       "[{'_id': {'order_year': 2015, 'order_month': 7}, 'count': 2273},\n",
       " {'_id': {'order_year': 2015, 'order_month': 4}, 'count': 2111},\n",
       " {'_id': {'order_year': 2015, 'order_month': 9}, 'count': 2065},\n",
       " {'_id': {'order_year': 2016, 'order_month': 5}, 'count': 2047},\n",
       " {'_id': {'order_year': 2014, 'order_month': 7}, 'count': 2008},\n",
       " {'_id': {'order_year': 2015, 'order_month': 6}, 'count': 1989},\n",
       " {'_id': {'order_year': 2016, 'order_month': 3}, 'count': 1969},\n",
       " {'_id': {'order_year': 2015, 'order_month': 10}, 'count': 1965},\n",
       " {'_id': {'order_year': 2015, 'order_month': 5}, 'count': 1959},\n",
       " {'_id': {'order_year': 2015, 'order_month': 12}, 'count': 1951},\n",
       " {'_id': {'order_year': 2016, 'order_month': 4}, 'count': 1951},\n",
       " {'_id': {'order_year': 2016, 'order_month': 1}, 'count': 1944},\n",
       " {'_id': {'order_year': 2014, 'order_month': 10}, 'count': 1921},\n",
       " {'_id': {'order_year': 2014, 'order_month': 12}, 'count': 1914},\n",
       " {'_id': {'order_year': 2014, 'order_month': 5}, 'count': 1908},\n",
       " {'_id': {'order_year': 2015, 'order_month': 3}, 'count': 1891},\n",
       " {'_id': {'order_year': 2014, 'order_month': 6}, 'count': 1887},\n",
       " {'_id': {'order_year': 2013, 'order_month': 7}, 'count': 1886},\n",
       " {'_id': {'order_year': 2015, 'order_month': 11}, 'count': 1834},\n",
       " {'_id': {'order_year': 2015, 'order_month': 1}, 'count': 1830},\n",
       " {'_id': {'order_year': 2013, 'order_month': 5}, 'count': 1808},\n",
       " {'_id': {'order_year': 2014, 'order_month': 1}, 'count': 1791},\n",
       " {'_id': {'order_year': 2014, 'order_month': 4}, 'count': 1739},\n",
       " {'_id': {'order_year': 2015, 'order_month': 2}, 'count': 1732},\n",
       " {'_id': {'order_year': 2015, 'order_month': 8}, 'count': 1729},\n",
       " {'_id': {'order_year': 2016, 'order_month': 2}, 'count': 1706},\n",
       " {'_id': {'order_year': 2013, 'order_month': 4}, 'count': 1696},\n",
       " {'_id': {'order_year': 2013, 'order_month': 3}, 'count': 1683},\n",
       " {'_id': {'order_year': 2013, 'order_month': 6}, 'count': 1675},\n",
       " {'_id': {'order_year': 2013, 'order_month': 1}, 'count': 1674},\n",
       " {'_id': {'order_year': 2014, 'order_month': 8}, 'count': 1642},\n",
       " {'_id': {'order_year': 2014, 'order_month': 9}, 'count': 1637},\n",
       " {'_id': {'order_year': 2014, 'order_month': 11}, 'count': 1628},\n",
       " {'_id': {'order_year': 2013, 'order_month': 10}, 'count': 1618},\n",
       " {'_id': {'order_year': 2013, 'order_month': 9}, 'count': 1617},\n",
       " {'_id': {'order_year': 2014, 'order_month': 3}, 'count': 1586},\n",
       " {'_id': {'order_year': 2013, 'order_month': 12}, 'count': 1565},\n",
       " {'_id': {'order_year': 2013, 'order_month': 11}, 'count': 1552},\n",
       " {'_id': {'order_year': 2014, 'order_month': 2}, 'count': 1538},\n",
       " {'_id': {'order_year': 2013, 'order_month': 8}, 'count': 1537},\n",
       " {'_id': {'order_year': 2013, 'order_month': 2}, 'count': 1139}]"
      ]
     },
     "execution_count": 18,
     "metadata": {},
     "output_type": "execute_result"
    }
   ],
   "source": [
    "project_query = {\n",
    "    \"$project\": {\n",
    "        \"order_year\": { \"$year\": \"$OrderDate\" },\n",
    "        \"order_month\": { \"$month\": \"$OrderDate\" }\n",
    "    }\n",
    "}\n",
    "\n",
    "groupby_query = {\n",
    "    '$group': {\n",
    "        '_id': {\"order_year\":\"$order_year\", \n",
    "                \"order_month\":\"$order_month\"},\n",
    "        'count' : {'$sum' : 1}\n",
    "    }\n",
    "}\n",
    "\n",
    "sort_query = {\n",
    "    '$sort': {\n",
    "        'count': -1\n",
    "    }\n",
    "}\n",
    "\n",
    "pipeline = [project_query, groupby_query, sort_query]\n",
    "\n",
    "r = db.All_Sales_Orders.aggregate(pipeline)\n",
    "\n",
    "Result_Q6 = list(r)\n",
    "\n",
    "Result_Q6"
   ]
  },
  {
   "cell_type": "markdown",
   "metadata": {},
   "source": [
    "7. Would like to know the average monthly sales prices?"
   ]
  },
  {
   "cell_type": "code",
   "execution_count": 83,
   "metadata": {},
   "outputs": [
    {
     "data": {
      "text/plain": [
       "[{'_id': {'order_year': 2013, 'order_month': 5},\n",
       "  'rounded_avg_prices': Decimal128('800.64')},\n",
       " {'_id': {'order_year': 2013, 'order_month': 4},\n",
       "  'rounded_avg_prices': Decimal128('782.03')},\n",
       " {'_id': {'order_year': 2014, 'order_month': 3},\n",
       "  'rounded_avg_prices': Decimal128('780.69')},\n",
       " {'_id': {'order_year': 2013, 'order_month': 6},\n",
       "  'rounded_avg_prices': Decimal128('777.46')},\n",
       " {'_id': {'order_year': 2013, 'order_month': 11},\n",
       "  'rounded_avg_prices': Decimal128('770.59')},\n",
       " {'_id': {'order_year': 2013, 'order_month': 9},\n",
       "  'rounded_avg_prices': Decimal128('767.99')},\n",
       " {'_id': {'order_year': 2013, 'order_month': 7},\n",
       "  'rounded_avg_prices': Decimal128('763.69')},\n",
       " {'_id': {'order_year': 2013, 'order_month': 2},\n",
       "  'rounded_avg_prices': Decimal128('757.19')},\n",
       " {'_id': {'order_year': 2013, 'order_month': 12},\n",
       "  'rounded_avg_prices': Decimal128('750.73')},\n",
       " {'_id': {'order_year': 2013, 'order_month': 10},\n",
       "  'rounded_avg_prices': Decimal128('750.31')},\n",
       " {'_id': {'order_year': 2013, 'order_month': 8},\n",
       "  'rounded_avg_prices': Decimal128('747.30')},\n",
       " {'_id': {'order_year': 2014, 'order_month': 2},\n",
       "  'rounded_avg_prices': Decimal128('739.70')},\n",
       " {'_id': {'order_year': 2014, 'order_month': 1},\n",
       "  'rounded_avg_prices': Decimal128('739.63')},\n",
       " {'_id': {'order_year': 2013, 'order_month': 3},\n",
       "  'rounded_avg_prices': Decimal128('735.96')},\n",
       " {'_id': {'order_year': 2013, 'order_month': 1},\n",
       "  'rounded_avg_prices': Decimal128('724.26')}]"
      ]
     },
     "execution_count": 83,
     "metadata": {},
     "output_type": "execute_result"
    }
   ],
   "source": [
    "project_query_1 = {\n",
    "    \"$project\": {\n",
    "        \"OrderDate\": 1,\n",
    "        \"order_lines.Quantity\": 1,\n",
    "        \"order_lines.UnitPrice\": 1 \n",
    "    }\n",
    "}\n",
    "\n",
    "unwind_query = {\n",
    "    \"$unwind\": \"$order_lines\"\n",
    "    }\n",
    "\n",
    "project_query_2 = {\n",
    "    \"$project\": {\n",
    "        \"order_year\": { \"$year\": \"$OrderDate\" },\n",
    "        \"order_month\": { \"$month\": \"$OrderDate\" },\n",
    "        \"mult\": {\"$multiply\": [\"$order_lines.Quantity\", \"$order_lines.UnitPrice\"]}\n",
    "    }\n",
    "}\n",
    "\n",
    "groupby_query = {\n",
    "    '$group': {\n",
    "        '_id': {\"order_year\":\"$order_year\", \n",
    "                \"order_month\":\"$order_month\"},\n",
    "        'avg_prices' : {'$avg': \"$mult\"}\n",
    "    }\n",
    "}\n",
    "\n",
    "sort_query = {\n",
    "    '$sort': {\n",
    "        'avg_prices': -1\n",
    "    }\n",
    "}\n",
    "\n",
    "project_query_3 = {\n",
    "    '$project': {\n",
    "        \"rounded_avg_prices\": {\"$round\": [\"$avg_prices\", 2] }\n",
    "    }\n",
    "}\n",
    "\n",
    "pipeline = [project_query_1, unwind_query, project_query_2, groupby_query, sort_query, project_query_3]\n",
    "\n",
    "r = db.All_Sales_Orders.aggregate(pipeline)\n",
    "\n",
    "Result_Q7 = list(r)\n",
    "\n",
    "Result_Q7"
   ]
  },
  {
   "cell_type": "markdown",
   "metadata": {},
   "source": [
    "8. Would like to know the yearly expenditures with suppliers (per supplier name)?"
   ]
  },
  {
   "cell_type": "code",
   "execution_count": 100,
   "metadata": {},
   "outputs": [
    {
     "data": {
      "text/plain": [
       "[{'_id': {'transaction_year': 2016, 'SupplierName': ['Fabrikam, Inc.']},\n",
       "  'sum_amount': Decimal128('-2961969.90')},\n",
       " {'_id': {'transaction_year': 2016, 'SupplierName': ['A Datum Corporation']},\n",
       "  'sum_amount': Decimal128('0.00')},\n",
       " {'_id': {'transaction_year': 2016, 'SupplierName': ['Litware, Inc.']},\n",
       "  'sum_amount': Decimal128('-1310231.11')},\n",
       " {'_id': {'transaction_year': 2015, 'SupplierName': ['Litware, Inc.']},\n",
       "  'sum_amount': Decimal128('1353734.69')},\n",
       " {'_id': {'transaction_year': 2015, 'SupplierName': ['Fabrikam, Inc.']},\n",
       "  'sum_amount': Decimal128('2837528.40')},\n",
       " {'_id': {'transaction_year': 2014, 'SupplierName': ['Litware, Inc.']},\n",
       "  'sum_amount': Decimal128('686937.21')},\n",
       " {'_id': {'transaction_year': 2014, 'SupplierName': ['Fabrikam, Inc.']},\n",
       "  'sum_amount': Decimal128('1510955.10')},\n",
       " {'_id': {'transaction_year': 2013, 'SupplierName': ['Litware, Inc.']},\n",
       "  'sum_amount': Decimal128('119343.32')},\n",
       " {'_id': {'transaction_year': 2013, 'SupplierName': ['Contoso, Ltd.']},\n",
       "  'sum_amount': Decimal128('0.00')},\n",
       " {'_id': {'transaction_year': 2013, 'SupplierName': ['Fabrikam, Inc.']},\n",
       "  'sum_amount': Decimal128('485380.50')},\n",
       " {'_id': {'transaction_year': 2013,\n",
       "   'SupplierName': ['Northwind Electric Cars']},\n",
       "  'sum_amount': Decimal128('0.00')},\n",
       " {'_id': {'transaction_year': 2013,\n",
       "   'SupplierName': ['Graphic Design Institute']},\n",
       "  'sum_amount': Decimal128('0.00')},\n",
       " {'_id': {'transaction_year': 2013, 'SupplierName': ['The Phone Company']},\n",
       "  'sum_amount': Decimal128('0.00')}]"
      ]
     },
     "execution_count": 100,
     "metadata": {},
     "output_type": "execute_result"
    }
   ],
   "source": [
    "project_query = {\n",
    "    \"$project\": {\n",
    "        \"transaction_year\": { \"$year\": \"$TransactionDate\" },\n",
    "        \"SupplierName\": \"$purchasing_suppliers_categories_transactions.SupplierName\",\n",
    "        \"TransactionAmount\": 1\n",
    "    }\n",
    "}\n",
    "\n",
    "groupby_query = {\n",
    "    '$group': {\n",
    "        '_id': {\"transaction_year\":\"$transaction_year\", \n",
    "                \"SupplierName\":\"$SupplierName\"},\n",
    "        'sum_amount' : {'$sum': \"$TransactionAmount\"}\n",
    "    }\n",
    "}\n",
    "\n",
    "sort_query = {\n",
    "    '$sort': {\n",
    "        '_id.transaction_year': -1\n",
    "    }\n",
    "}\n",
    "\n",
    "pipeline = [project_query, groupby_query, sort_query]\n",
    "\n",
    "r = db.All_Purchasing_Supplier_Categories_Transactions.aggregate(pipeline)\n",
    "\n",
    "Result_Q8 = list(r)\n",
    "\n",
    "Result_Q8"
   ]
  },
  {
   "cell_type": "markdown",
   "metadata": {},
   "source": [
    "## Partnerships\n",
    "9. Would like to know what’s the most common payment type?"
   ]
  },
  {
   "cell_type": "code",
   "execution_count": 56,
   "metadata": {},
   "outputs": [
    {
     "data": {
      "text/plain": [
       "[{'_id': {'Payment_Method': []}, 'count': 51959}]"
      ]
     },
     "execution_count": 56,
     "metadata": {},
     "output_type": "execute_result"
    }
   ],
   "source": [
    "lookup_query = {\n",
    "    \"$lookup\": {\n",
    "        \"from\": \"Purchasing_SupplierTransactions_PaymentMethod\",\n",
    "        \"localField\": \"payment_method.PaymentMethodID\",\n",
    "        \"foreignField\": \"PaymentMethodID\",\n",
    "        \"as\": \"Payment_Method_info\"\n",
    "    }\n",
    "}\n",
    "\n",
    "match_query = {\n",
    "    '$match': {\n",
    "        'payment_method.PaymentMethodID': { \"$exists\": True }\n",
    "    }\n",
    "}\n",
    "\n",
    "unwind_query = {\n",
    "    \"$unwind\": \"$payment_method\"\n",
    "    }\n",
    "\n",
    "groupby_query = {\n",
    "    '$group': {\n",
    "        '_id': {'Payment_Method':'$payment_method.Payment_Method_Name'},\n",
    "        'count' : {'$sum' : 1}\n",
    "    }\n",
    "}\n",
    "\n",
    "sort_query = {\n",
    "    '$sort': {\n",
    "        'count': -1\n",
    "    }\n",
    "}\n",
    "\n",
    "limit_query = {\n",
    "    '$limit': 1\n",
    "}\n",
    "\n",
    "pipeline = [lookup_query, match_query, groupby_query, limit_query]\n",
    "\n",
    "r = db.Sales_CustomerTransactions_PaymentMethod.aggregate(pipeline)\n",
    "\n",
    "Result_Q9 = list(r)\n",
    "\n",
    "Result_Q9"
   ]
  },
  {
   "cell_type": "markdown",
   "metadata": {},
   "source": [
    "10. Which supplier of Novelty Goods Supplier as the most transactions?"
   ]
  },
  {
   "cell_type": "code",
   "execution_count": 19,
   "metadata": {},
   "outputs": [
    {
     "data": {
      "text/plain": [
       "[{'_id': {'Supplier_Name': 'Graphic Design Institute'}, 'count': 16}]"
      ]
     },
     "execution_count": 19,
     "metadata": {},
     "output_type": "execute_result"
    }
   ],
   "source": [
    "match_query = {\n",
    "     '$match': {\n",
    "         'purchasing_suppliers_categories_transactions.purchasing_suppliers_categories.SupplierCategoryName': { \"$eq\": 'Novelty Goods Supplier' }\n",
    "     }\n",
    " }\n",
    "\n",
    "unwind_query_1 = {\n",
    "    \"$unwind\": \"$purchasing_suppliers_categories_transactions\"\n",
    "    }\n",
    "\n",
    "unwind_query_2 = {\n",
    "    \"$unwind\": \"$purchasing_suppliers_categories_transactions.purchasing_suppliers_categories\"\n",
    "    }\n",
    "\n",
    "project_query = {\n",
    "    \"$project\": {\n",
    "        \"SupplierCategoryName\": \"$purchasing_suppliers_categories_transactions.purchasing_suppliers_categories.SupplierCategoryName\",\n",
    "        \"Supplier_Name\": \"$purchasing_suppliers_categories_transactions.SupplierName\"\n",
    "    }\n",
    "}\n",
    "\n",
    "groupby_query = {\n",
    "    '$group': {\n",
    "        '_id': {\"Supplier_Category_Name\":\"$Supplier_Category_Name\", \n",
    "                \"Supplier_Name\":\"$Supplier_Name\"},\n",
    "        'count' : {'$sum' : 1}\n",
    "    }\n",
    "}\n",
    "\n",
    "sort_query = {\n",
    "    '$sort': {\n",
    "        'count': -1,\n",
    "        'Supplier_Name': -1\n",
    "    }\n",
    "}\n",
    "\n",
    "limit_query = {\n",
    "    '$limit': 1\n",
    "}\n",
    "\n",
    "pipeline = [match_query, unwind_query_1, unwind_query_2, project_query, groupby_query, sort_query, limit_query]\n",
    "\n",
    "r = db.All_Purchasing_Supplier_Categories_Transactions.aggregate(pipeline)\n",
    "\n",
    "Result_Q10 = list(r)\n",
    "\n",
    "Result_Q10"
   ]
  },
  {
   "cell_type": "markdown",
   "metadata": {},
   "source": [
    "## Marketing Team\n",
    "11. Want to make an appreciation post and needs the name of the sales person with the most invoices in 2013 (person who’s customers brought the most money)?"
   ]
  },
  {
   "cell_type": "code",
   "execution_count": 59,
   "metadata": {},
   "outputs": [
    {
     "data": {
      "text/plain": [
       "[{'number_invoices': 3148,\n",
       "  'total_sales_amount': Decimal128('2545902.55'),\n",
       "  'full_name': ['Hudson Onslow']}]"
      ]
     },
     "execution_count": 59,
     "metadata": {},
     "output_type": "execute_result"
    }
   ],
   "source": [
    "unwind_query = {\n",
    "    \"$unwind\": \"$invoice_lines\"\n",
    "    }\n",
    "\n",
    "project_query_1 = {\n",
    "    \"$project\": {\n",
    "        \"SalespersonPersonID\":1,\n",
    "        \"invoice_year\": { \"$year\": \"$InvoiceDate\" },\n",
    "        \"sales_amount\": {\"$multiply\": [\"$invoice_lines.UnitPrice\", \"$invoice_lines.Quantity\"]}     \n",
    "    }\n",
    "}\n",
    "\n",
    "match_query = {\n",
    "    \"$match\": {\n",
    "        \"invoice_year\": {\"$eq\": 2013}\n",
    "    }\n",
    "}\n",
    "\n",
    "group_query = { \n",
    "        \"$group\" : {\n",
    "            \"_id\" : {\"salespersonid\":\"$SalespersonPersonID\"},\n",
    "            \"number_invoices\": {\"$sum\": 1},\n",
    "            \"total_sales_amount\": {\"$sum\": \"$sales_amount\"}\n",
    "        } \n",
    "    }\n",
    "\n",
    "lookup_query = {\n",
    "        \"$lookup\":{\n",
    "           \"from\": \"Application_People\",\n",
    "           \"localField\": \"_id.salespersonid\",\n",
    "           \"foreignField\": \"PersonID\",\n",
    "           \"as\": \"app_sales_person\"\n",
    "        }\n",
    "    }\n",
    "\n",
    "project_query_2 = {\n",
    "    \"$project\":{\n",
    "        \"_id\": 0,\n",
    "        \"full_name\":\"$app_sales_person.FullName\",\n",
    "        \"number_invoices\":1,\n",
    "        \"total_sales_amount\":1\n",
    "    }\n",
    "}\n",
    "\n",
    "sort_query = { \n",
    "        \"$sort\" : {\n",
    "            \"number_invoices\" : -1\n",
    "        } \n",
    "    }\n",
    "\n",
    "\n",
    "limit_query = { \n",
    "        \"$limit\" : 1\n",
    "    } \n",
    "\n",
    "pipeline = [unwind_query, project_query_1, match_query, group_query, lookup_query, project_query_2, sort_query, limit_query]  \n",
    "\n",
    "r = db.All_Sales_Invoices.aggregate(pipeline)\n",
    "\n",
    "Result_Q11 = list(r)\n",
    "\n",
    "Result_Q11"
   ]
  }
 ],
 "metadata": {
  "kernelspec": {
   "display_name": "Python 3",
   "language": "python",
   "name": "python3"
  },
  "language_info": {
   "codemirror_mode": {
    "name": "ipython",
    "version": 3
   },
   "file_extension": ".py",
   "mimetype": "text/x-python",
   "name": "python",
   "nbconvert_exporter": "python",
   "pygments_lexer": "ipython3",
   "version": "3.8.5"
  },
  "metadata": {
   "interpreter": {
    "hash": "1baa965d5efe3ac65b79dfc60c0d706280b1da80fedb7760faf2759126c4f253"
   }
  }
 },
 "nbformat": 4,
 "nbformat_minor": 2
}
