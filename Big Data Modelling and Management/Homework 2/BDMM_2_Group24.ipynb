{
 "cells": [
  {
   "cell_type": "markdown",
   "metadata": {},
   "source": [
    "# Big Data Modelling and Management - 2nd Project\n",
    "\n",
    "**Group 24 members:** <br>\n",
    "Filipe Lourenço (R20170799), <br>\n",
    "Guilherme Neves (R20170749), <br>\n",
    "Rui Monteiro (R20170796), <br>\n",
    "Vasco Pestana (R20170803)\n",
    "\n",
    "**MSc:** Data Science and Advanced Analytics - Nova IMS <br>\n",
    "2020/2021"
   ]
  },
  {
   "cell_type": "code",
   "execution_count": 1,
   "metadata": {},
   "outputs": [],
   "source": [
    "from pymongo import MongoClient\n",
    "import datetime"
   ]
  },
  {
   "cell_type": "markdown",
   "metadata": {},
   "source": [
    "### Connecting to the MongoDB database"
   ]
  },
  {
   "cell_type": "code",
   "execution_count": 2,
   "metadata": {},
   "outputs": [],
   "source": [
    "host=\"rhea.isegi.unl.pt\"\n",
    "port=\"27017\"\n",
    "user=\"mongo_group_24\"\n",
    "password=\"T0b5Sez8prB8jo9ohdb907GL5U0S24GX\"\n",
    "protocol=\"mongodb\"\n",
    "database=\"worldwideimporters\"\n",
    "\n",
    "client = MongoClient(f\"{protocol}://{user}:{password}@{host}:{port}/{database}\")"
   ]
  },
  {
   "cell_type": "code",
   "execution_count": 3,
   "metadata": {},
   "outputs": [
    {
     "name": "stdout",
     "output_type": "stream",
     "text": [
      "Database info: Database(MongoClient(host=['rhea.isegi.unl.pt:27017'], document_class=dict, tz_aware=False, connect=True), 'worldwideimporters')\n",
      "\n"
     ]
    }
   ],
   "source": [
    "group_24_db = client.worldwideimporters\n",
    "\n",
    "print(f\"Database info: {group_24_db}\\n\")"
   ]
  },
  {
   "cell_type": "markdown",
   "metadata": {},
   "source": [
    "### Questions"
   ]
  },
  {
   "cell_type": "markdown",
   "metadata": {},
   "source": [
    "0. __Example Question__ _How many orders exist in the database?_\n",
    "\n",
    "**Answer:** 73595"
   ]
  },
  {
   "cell_type": "code",
   "execution_count": 5,
   "metadata": {},
   "outputs": [
    {
     "data": {
      "text/plain": [
       "73595"
      ]
     },
     "execution_count": 5,
     "metadata": {},
     "output_type": "execute_result"
    }
   ],
   "source": [
    "# The query should find all orders in the 'orders' collection and retrieve its length\n",
    "\n",
    "len(list(group_24_db.orders.find()))"
   ]
  },
  {
   "cell_type": "markdown",
   "metadata": {},
   "source": [
    "1. How many people records don't have the UserPreferences field?\n",
    "\n",
    "**Answer:** 929"
   ]
  },
  {
   "cell_type": "code",
   "execution_count": 6,
   "metadata": {},
   "outputs": [
    {
     "data": {
      "text/plain": [
       "929"
      ]
     },
     "execution_count": 6,
     "metadata": {},
     "output_type": "execute_result"
    }
   ],
   "source": [
    "# This query finds all people who don't have the UserPreferences field and returns its length\n",
    "\n",
    "len(list(group_24_db.people.find(\n",
    "    {'UserPreferences': {'$exists': False}})))"
   ]
  },
  {
   "cell_type": "markdown",
   "metadata": {},
   "source": [
    "2. How many customer records are valid after `November 2015`?\n",
    "\n",
    "**Answer:** 1111"
   ]
  },
  {
   "cell_type": "code",
   "execution_count": 7,
   "metadata": {},
   "outputs": [
    {
     "data": {
      "text/plain": [
       "1111"
      ]
     },
     "execution_count": 7,
     "metadata": {},
     "output_type": "execute_result"
    }
   ],
   "source": [
    "# Use the ValidTo field to find the customer records which are valid after November 2015, since 'ValidTo' catches all customers \n",
    "# which have registered before November 2015, but whose records might be still valid until a date after November 2015\n",
    "\n",
    "len(list(group_24_db.people.find(\n",
    "    {\"ValidTo\": {\"$gt\": datetime.datetime(2015, 11, 30, 23, 59, 59)}})))"
   ]
  },
  {
   "cell_type": "markdown",
   "metadata": {},
   "source": [
    "3. How many people have their `Title` equal to `Team Member`?\n",
    "\n",
    "**Answer:** 13"
   ]
  },
  {
   "cell_type": "code",
   "execution_count": 8,
   "metadata": {},
   "outputs": [
    {
     "data": {
      "text/plain": [
       "13"
      ]
     },
     "execution_count": 8,
     "metadata": {},
     "output_type": "execute_result"
    }
   ],
   "source": [
    "# Find people that have a title equal to Team Member and return its length\n",
    "\n",
    "len(list(group_24_db.people.find(\n",
    "    {\"CustomFields.Title\": {\"$eq\": \"Team Member\"}})))"
   ]
  },
  {
   "cell_type": "markdown",
   "metadata": {},
   "source": [
    "4. How many people have in their name the string `Sara`?\n",
    "\n",
    "**Answer:** 5"
   ]
  },
  {
   "cell_type": "code",
   "execution_count": 9,
   "metadata": {},
   "outputs": [
    {
     "data": {
      "text/plain": [
       "5"
      ]
     },
     "execution_count": 9,
     "metadata": {},
     "output_type": "execute_result"
    }
   ],
   "source": [
    "# Use a Regular Expression that catches all peoples' names that include the 'Sara' substring and return its length\n",
    "\n",
    "len(list(group_24_db.people.find(\n",
    "    {\"FullName\": {\"$regex\": \".*Sara.*\"}})))"
   ]
  },
  {
   "cell_type": "markdown",
   "metadata": {},
   "source": [
    "5. Return 5 full names that have in their name the string `Sara`?\n",
    "\n",
    "**Answer:** Sara Karlsson, Sara Charlton, Saraswati Beniwal, Sara Huiting and Sara Walkky"
   ]
  },
  {
   "cell_type": "code",
   "execution_count": 10,
   "metadata": {},
   "outputs": [
    {
     "data": {
      "text/plain": [
       "[{'FullName': 'Sara Karlsson'},\n",
       " {'FullName': 'Sara Charlton'},\n",
       " {'FullName': 'Saraswati Beniwal'},\n",
       " {'FullName': 'Sara Huiting'},\n",
       " {'FullName': 'Sara Walkky'}]"
      ]
     },
     "execution_count": 10,
     "metadata": {},
     "output_type": "execute_result"
    }
   ],
   "source": [
    "# Use a Regular Expression that catches all peoples' names that include the 'Sara' substring and project FullName (from the\n",
    "# previous question we already know the query only retrieves 5 people, so we don't need to use the '$limit' operator)\n",
    "\n",
    "list(group_24_db.people.find(\n",
    "    {\"FullName\": {\"$regex\": \".*Sara.*\"}},\n",
    "    {\"_id\":0, \"FullName\":1}))"
   ]
  },
  {
   "cell_type": "markdown",
   "metadata": {},
   "source": [
    "6. What is the highest `CommissionRate` that a person has?\n",
    "\n",
    "**Answer:** 4.55"
   ]
  },
  {
   "cell_type": "code",
   "execution_count": 5,
   "metadata": {},
   "outputs": [
    {
     "data": {
      "text/plain": [
       "[{'_id': ObjectId('6091cbcf45ad05f8e5c847b9'),\n",
       "  'PersonID': 1,\n",
       "  'FullName': 'Data Conversion Only',\n",
       "  'PreferredName': 'Data Conversion Only',\n",
       "  'SearchName': 'Data Conversion Only Data Conversion Only',\n",
       "  'IsPermittedToLogon': False,\n",
       "  'LogonName': 'NO LOGON',\n",
       "  'IsExternalLogonProvider': False,\n",
       "  'IsSystemUser': False,\n",
       "  'IsEmployee': False,\n",
       "  'IsSalesperson': False,\n",
       "  'UserPreferences': '{\"theme\":\"blitzer\",\"dateFormat\":\"yy-mm-dd\",\"timeZone\": \"PST\",\"table\":{\"pagingType\":\"full_numbers\",\"pageLength\": 25},\"favoritesOnDashboard\":true}',\n",
       "  'Photo': nan,\n",
       "  'LastEditedBy': 1,\n",
       "  'ValidFrom': datetime.datetime(2016, 5, 31, 23, 14),\n",
       "  'ValidTo': datetime.datetime(9999, 12, 31, 23, 59, 59)},\n",
       " {'_id': ObjectId('6091cbcf45ad05f8e5c847ba'),\n",
       "  'PersonID': 2,\n",
       "  'FullName': 'Kayla Woodcock',\n",
       "  'PreferredName': 'Kayla',\n",
       "  'SearchName': 'Kayla Kayla Woodcock',\n",
       "  'IsPermittedToLogon': True,\n",
       "  'LogonName': 'kaylaw@wideworldimporters.com',\n",
       "  'IsExternalLogonProvider': False,\n",
       "  'HashedPassword': '0x616E9B558976525E7F14D780EBAE80C68586958DC97C506DB418E2E2C49E340E',\n",
       "  'IsSystemUser': True,\n",
       "  'IsEmployee': True,\n",
       "  'IsSalesperson': True,\n",
       "  'UserPreferences': '{\"theme\":\"humanity\",\"dateFormat\":\"dd/mm/yy\",\"timeZone\": \"PST\",\"table\":{\"pagingType\":\"full\",\"pageLength\": 50},\"favoritesOnDashboard\":true}',\n",
       "  'PhoneNumber': '(415) 555-0102',\n",
       "  'FaxNumber': '(415) 555-0103',\n",
       "  'EmailAddress': 'kaylaw@wideworldimporters.com',\n",
       "  'Photo': nan,\n",
       "  'CustomFields': {'OtherLanguages': ['Polish', 'Chinese', 'Japanese'],\n",
       "   'HireDate': '2008-04-19T00:00:00',\n",
       "   'Title': 'Team Member',\n",
       "   'PrimarySalesTerritory': 'Plains',\n",
       "   'CommissionRate': '0.98'},\n",
       "  'OtherLanguages': ['Polish', 'Chinese', 'Japanese'],\n",
       "  'LastEditedBy': 1,\n",
       "  'ValidFrom': datetime.datetime(2016, 5, 31, 23, 14),\n",
       "  'ValidTo': datetime.datetime(9999, 12, 31, 23, 59, 59)},\n",
       " {'_id': ObjectId('6091cbcf45ad05f8e5c847bb'),\n",
       "  'PersonID': 3,\n",
       "  'FullName': 'Hudson Onslow',\n",
       "  'PreferredName': 'Hudson',\n",
       "  'SearchName': 'Hudson Hudson Onslow',\n",
       "  'IsPermittedToLogon': True,\n",
       "  'LogonName': 'hudsono@wideworldimporters.com',\n",
       "  'IsExternalLogonProvider': False,\n",
       "  'HashedPassword': '0x23668CCC579015EA934736C3D7B87E86360EB5EEE164C4368A7B103C11E3436E',\n",
       "  'IsSystemUser': True,\n",
       "  'IsEmployee': True,\n",
       "  'IsSalesperson': True,\n",
       "  'UserPreferences': '{\"theme\":\"dark-hive\",\"dateFormat\":\"DD, MM d, yy\",\"timeZone\": \"PST\",\"table\":{\"pagingType\":\"simple_numbers\",\"pageLength\": 10},\"favoritesOnDashboard\":true}',\n",
       "  'PhoneNumber': '(415) 555-0102',\n",
       "  'FaxNumber': '(415) 555-0103',\n",
       "  'EmailAddress': 'hudsono@wideworldimporters.com',\n",
       "  'Photo': nan,\n",
       "  'CustomFields': {'OtherLanguages': [],\n",
       "   'HireDate': '2012-03-05T00:00:00',\n",
       "   'Title': 'Team Member',\n",
       "   'PrimarySalesTerritory': 'New England',\n",
       "   'CommissionRate': '3.62'},\n",
       "  'OtherLanguages': [],\n",
       "  'LastEditedBy': 1,\n",
       "  'ValidFrom': datetime.datetime(2016, 5, 31, 23, 14),\n",
       "  'ValidTo': datetime.datetime(9999, 12, 31, 23, 59, 59)},\n",
       " {'_id': ObjectId('6091cbcf45ad05f8e5c847bc'),\n",
       "  'PersonID': 4,\n",
       "  'FullName': 'Isabella Rupp',\n",
       "  'PreferredName': 'Isabella',\n",
       "  'SearchName': 'Isabella Isabella Rupp',\n",
       "  'IsPermittedToLogon': True,\n",
       "  'LogonName': 'isabellar@wideworldimporters.com',\n",
       "  'IsExternalLogonProvider': False,\n",
       "  'HashedPassword': '0xB45E7C4E37C32FA9A5A3161B9DB1C9C1E787BB7DB424E7FD7A20895D4BFB5D31',\n",
       "  'IsSystemUser': True,\n",
       "  'IsEmployee': True,\n",
       "  'IsSalesperson': False,\n",
       "  'UserPreferences': '{\"theme\":\"ui-darkness\",\"dateFormat\":\"dd/mm/yy\",\"timeZone\": \"PST\",\"table\":{\"pagingType\":\"simple\",\"pageLength\": 10},\"favoritesOnDashboard\":true}',\n",
       "  'PhoneNumber': '(415) 555-0102',\n",
       "  'FaxNumber': '(415) 555-0103',\n",
       "  'EmailAddress': 'isabellar@wideworldimporters.com',\n",
       "  'Photo': nan,\n",
       "  'CustomFields': {'OtherLanguages': ['Turkish', 'Slovenian'],\n",
       "   'HireDate': '2010-08-24T00:00:00',\n",
       "   'Title': 'Team Member'},\n",
       "  'OtherLanguages': ['Turkish', 'Slovenian'],\n",
       "  'LastEditedBy': 1,\n",
       "  'ValidFrom': datetime.datetime(2016, 5, 31, 23, 14),\n",
       "  'ValidTo': datetime.datetime(9999, 12, 31, 23, 59, 59)}]"
      ]
     },
     "execution_count": 5,
     "metadata": {},
     "output_type": "execute_result"
    }
   ],
   "source": [
    "list(group_24_db.people.find().limit(4))"
   ]
  },
  {
   "cell_type": "code",
   "execution_count": 4,
   "metadata": {},
   "outputs": [
    {
     "data": {
      "text/plain": [
       "[{'CommissionRate': '4.55'}]"
      ]
     },
     "execution_count": 4,
     "metadata": {},
     "output_type": "execute_result"
    }
   ],
   "source": [
    "# Use project to just select and include in the output the 'CommissionRate' sub-field form the 'CustomFields' field. \n",
    "# Then, order this sub-field in descending order (-1), only including the top 1 'CommissionRate' using the '$limit' operator\n",
    "\n",
    "list(group_24_db.people.aggregate([{ '$project' : {'CustomFields.CommissionRate': 1}},\n",
    "                                   { '$sort': {'CustomFields.CommissionRate': -1}},\n",
    "                                   { '$limit': 1},\n",
    "                                   { '$project': {'_id': 0,\n",
    "                                                  'CommissionRate':'$CustomFields.CommissionRate'}}]))"
   ]
  },
  {
   "cell_type": "markdown",
   "metadata": {},
   "source": [
    "7. And what are the top 10 most Common Names (Primary or Surnames)?\n",
    "\n",
    "**Answer:** Bose, Ganguly, Roman, Thakur, PrabhupÄ\\x81da, De, David, Mukherjee, Dhanishta and Van"
   ]
  },
  {
   "cell_type": "code",
   "execution_count": 12,
   "metadata": {},
   "outputs": [
    {
     "data": {
      "text/plain": [
       "[{'_id': 'Bose', 'count': 8},\n",
       " {'_id': 'Ganguly', 'count': 7},\n",
       " {'_id': 'Roman', 'count': 6},\n",
       " {'_id': 'Thakur', 'count': 6},\n",
       " {'_id': 'PrabhupÄ\\x81da', 'count': 5},\n",
       " {'_id': 'De', 'count': 5},\n",
       " {'_id': 'David', 'count': 5},\n",
       " {'_id': 'Mukherjee', 'count': 5},\n",
       " {'_id': 'Dhanishta', 'count': 5},\n",
       " {'_id': 'Van', 'count': 5}]"
      ]
     },
     "execution_count": 12,
     "metadata": {},
     "output_type": "execute_result"
    }
   ],
   "source": [
    "# Start by splitting the FullName by space (\" \") and using the sortByCount to groupby and count each splitted name\n",
    "# The '$unwind' operator is used to deconstruct the array with splitted names, to get each element (name) separately\n",
    "# The name in the 1st position was ignored since it was an empty string\n",
    "\n",
    "list(group_24_db.people.aggregate( [ { '$project': { 'split_name' : { '$split': [\"$FullName\", \" \"] } } },\n",
    "                                     { '$unwind': '$split_name' },\n",
    "                                     { '$sortByCount': \"$split_name\" },\n",
    "                                     { '$limit': 11 }]))[1:11]"
   ]
  },
  {
   "cell_type": "markdown",
   "metadata": {},
   "source": [
    "8. How many orders has the Customer `Tailspin Toys (Head Office)`?\n",
    "\n",
    "**Answer:** 129"
   ]
  },
  {
   "cell_type": "code",
   "execution_count": 13,
   "metadata": {},
   "outputs": [
    {
     "data": {
      "text/plain": [
       "[{'count': 129,\n",
       "  'CustomerID': 1,\n",
       "  'CustomerName': 'Tailspin Toys (Head Office)'}]"
      ]
     },
     "execution_count": 13,
     "metadata": {},
     "output_type": "execute_result"
    }
   ],
   "source": [
    "# Start by grouping and counting the CustomerIDs in the 'orders' collection, do the lookup with customers using the CustomerID\n",
    "# field, match the customer called 'Tailspin Toys (Head Office)' and, in the end, project the CustomerID, CustomerName and count\n",
    "\n",
    "query_1 = {\n",
    "    \"$group\": {\n",
    "        \"_id\": {\"cust_id\": \"$CustomerID\"},\n",
    "        \"count\": {\"$sum\": 1}\n",
    "    }\n",
    "}\n",
    "\n",
    "query_2 = {\n",
    "    \"$lookup\":\n",
    "    {\n",
    "       \"from\": \"customers\",\n",
    "       \"localField\": \"_id.cust_id\",\n",
    "       \"foreignField\": \"CustomerID\",\n",
    "       \"as\": \"cust_id\"\n",
    "     }\n",
    "}\n",
    "\n",
    "query_3 = {\n",
    "    \"$project\":\n",
    "    {\n",
    "       \"fields\": {\"$arrayElemAt\": [\"$cust_id\", 0]},\n",
    "       \"count\": \"$count\",\n",
    "     }\n",
    "}\n",
    "\n",
    "query_4 = {\n",
    "    '$match': {\n",
    "        'fields.CustomerName' : {'$eq': 'Tailspin Toys (Head Office)'}\n",
    "    }\n",
    "}\n",
    "\n",
    "query_5 = {\n",
    "    \"$project\":\n",
    "    {\n",
    "       \"_id\": 0,\n",
    "       \"CustomerID\": \"$fields.CustomerID\",\n",
    "       \"CustomerName\": \"$fields.CustomerName\",\n",
    "       \"count\": 1,\n",
    "     }\n",
    "}\n",
    "\n",
    "pipeline = [query_1, query_2, query_3, query_4, query_5]\n",
    "\n",
    "r = group_24_db.orders.aggregate(pipeline)\n",
    "\n",
    "result = list(r)\n",
    "\n",
    "result"
   ]
  },
  {
   "cell_type": "markdown",
   "metadata": {},
   "source": [
    "9. How many people that have more or equal than three `OtherLanguage`?\n",
    "\n",
    "**Answer:** 4"
   ]
  },
  {
   "cell_type": "code",
   "execution_count": 14,
   "metadata": {},
   "outputs": [
    {
     "data": {
      "text/plain": [
       "4"
      ]
     },
     "execution_count": 14,
     "metadata": {},
     "output_type": "execute_result"
    }
   ],
   "source": [
    "# This query finds all documents whose 'OtherLanguages' array has a length of more than 2 strings ('OtherLanguages.2'), or in\n",
    "# other words, more or equal than 3, as the 'exists' operator set to True means only documents where 'OtherLanguages' is stated\n",
    "# will be considered. Finally, the number of documents found is retrieved\n",
    "\n",
    "len(list(group_24_db.people.find({'OtherLanguages.2': {'$exists': True}})))"
   ]
  },
  {
   "cell_type": "markdown",
   "metadata": {},
   "source": [
    "10. Top 10 most common `OtherLanguage` for people records?\n",
    "\n",
    "**Answer:** Greek, Finnish, Dutch, Lithuanian, Arabic, Polish, Romanian, Croatian, Slovak and Chinese"
   ]
  },
  {
   "cell_type": "code",
   "execution_count": 15,
   "metadata": {},
   "outputs": [
    {
     "data": {
      "text/plain": [
       "[{'count': 3, 'OtherLanguage': 'Greek'},\n",
       " {'count': 3, 'OtherLanguage': 'Finnish'},\n",
       " {'count': 3, 'OtherLanguage': 'Dutch'},\n",
       " {'count': 2, 'OtherLanguage': 'Lithuanian'},\n",
       " {'count': 2, 'OtherLanguage': 'Arabic'},\n",
       " {'count': 2, 'OtherLanguage': 'Polish'},\n",
       " {'count': 2, 'OtherLanguage': 'Romanian'},\n",
       " {'count': 2, 'OtherLanguage': 'Croatian'},\n",
       " {'count': 2, 'OtherLanguage': 'Slovak'},\n",
       " {'count': 1, 'OtherLanguage': 'Chinese'}]"
      ]
     },
     "execution_count": 15,
     "metadata": {},
     "output_type": "execute_result"
    }
   ],
   "source": [
    "# Use '$project' to only select and include in the output the field 'OtherLanguages'. After it, the '$unwind' operator is used \n",
    "# to separate the list of languages in 'OtherLanguages' into different documents of the same ObjectId, to then be counted and\n",
    "# sorted in the '$sortByCount' operator in descending order, limiting it to just the top 10 languages with the highest count\n",
    "\n",
    "list(group_24_db.people.aggregate( [ { '$project': {'OtherLanguages': 1 }},\n",
    "                                     { '$unwind': '$OtherLanguages' },\n",
    "                                     { '$sortByCount': \"$OtherLanguages\" },\n",
    "                                     { '$limit': 10 },\n",
    "                                     { '$project': {'_id': 0, \n",
    "                                                    'OtherLanguage':'$_id', \n",
    "                                                    'count': 1}}]))"
   ]
  },
  {
   "cell_type": "markdown",
   "metadata": {},
   "source": [
    "11. Who is the most common `PickedByPersonID` person name for orders done by customer `Adriana Pena`?\n",
    "\n",
    "**Answer:** Three people have 'count' equal to 3, which is the highest value: Anthony Grosse, Piper Koch and Katie Darwin"
   ]
  },
  {
   "cell_type": "code",
   "execution_count": 16,
   "metadata": {},
   "outputs": [
    {
     "data": {
      "text/plain": [
       "[{'CustomerName': 'Adriana Pena', 'PrimaryContactPersonID': 3255}]"
      ]
     },
     "execution_count": 16,
     "metadata": {},
     "output_type": "execute_result"
    }
   ],
   "source": [
    "# Firstly, find the record for Adriana Pena in the 'customers' collection, in order to know the 'PrimaryContactPersonID', which\n",
    "# corresponds to the 'CustomerPersonID' in the 'orders' collection\n",
    "\n",
    "# We decided to do the question with this initial query, used to get Adriana Pena's ID a priori, and then using that ID in the \n",
    "# aggregate query (next cell). This improved the computational efficiency of the queries, because instead of doing another \n",
    "# '$lookup', we did this 'match' in the beggining.\n",
    "\n",
    "list(group_24_db.customers.find({'CustomerName':'Adriana Pena'},\n",
    "                                {'_id':0, 'CustomerName':1, 'PrimaryContactPersonID':1}))"
   ]
  },
  {
   "cell_type": "code",
   "execution_count": 17,
   "metadata": {},
   "outputs": [
    {
     "data": {
      "text/plain": [
       "[{'count': 3, 'PersonFullName': 'Anthony Grosse'},\n",
       " {'count': 3, 'PersonFullName': 'Piper Koch'},\n",
       " {'count': 3, 'PersonFullName': 'Katie Darwin'}]"
      ]
     },
     "execution_count": 17,
     "metadata": {},
     "output_type": "execute_result"
    }
   ],
   "source": [
    "# Using the 'match' statement to select just the orders' records for the person with 'ContactPersonID' equal to 3255, sorting\n",
    "# them by count for each 'PickeddByPersonID' field. Then, 'lookup' is used to join 'orders' and 'people' collections by the\n",
    "# fields '_id', which correspond to 'PickedByPersonID', and 'PersonID' from 'people'. After this, 'project' operator is used to\n",
    "# retrieve only the 'count' and the 'FullName' subfield from the 'FullPersonInformation' field. At the same time, the unwind is\n",
    "# stated in order to just query 'PersonFullName' which are not empty, as the number of total documents is restricted to 3, with\n",
    "# the 'limit' operator.\n",
    " \n",
    "list(group_24_db.orders.aggregate([{'$match': {'ContactPersonID': 3255}},\n",
    "                                   {'$sortByCount': \"$PickedByPersonID\" },\n",
    "                                   {'$lookup': {\n",
    "                                                'from': 'people',\n",
    "                                                'localField': '_id',\n",
    "                                                'foreignField': 'PersonID',\n",
    "                                                'as': 'FullPersonInformation'}},\n",
    "                                   {'$project': {'_id': 0, \n",
    "                                                 'count': 1,\n",
    "                                                 'PersonFullName':'$FullPersonInformation.FullName'}},\n",
    "                                   {'$unwind': '$PersonFullName'},\n",
    "                                   {'$limit': 3}\n",
    "                                   ]))"
   ]
  },
  {
   "cell_type": "markdown",
   "metadata": {},
   "source": [
    "12. What is the average difference in days between OrderDate and ExpectedDeliveryDate for orders sold by (`SalespersonPersonID`) person with name `Jack Potter`?\n",
    "\n",
    "**Answer:** Negative 1.4 days (approximately)"
   ]
  },
  {
   "cell_type": "code",
   "execution_count": 18,
   "metadata": {},
   "outputs": [
    {
     "data": {
      "text/plain": [
       "[{'PersonID': 20, 'FullName': 'Jack Potter'}]"
      ]
     },
     "execution_count": 18,
     "metadata": {},
     "output_type": "execute_result"
    }
   ],
   "source": [
    "# Find the PersonID of Jack Potter\n",
    "\n",
    "# Similarly to question 11, we decided to do this question with this initial query, used to get Jack Potter's ID a priori, \n",
    "# and then using that ID in the aggregate query (next cell). This improved the computational efficiency of the queries, \n",
    "# because instead of doing one '$lookup', we did this 'match' in the beggining.\n",
    "\n",
    "list(group_24_db.people.find({'FullName': 'Jack Potter'},\n",
    "                             {\"_id\":0, \"FullName\":1, \"PersonID\":1}))"
   ]
  },
  {
   "cell_type": "code",
   "execution_count": 19,
   "metadata": {},
   "outputs": [
    {
     "data": {
      "text/plain": [
       "[{'Average Time': -1.4490320833897388}]"
      ]
     },
     "execution_count": 19,
     "metadata": {},
     "output_type": "execute_result"
    }
   ],
   "source": [
    "# Start by matching with the PersonID corresponding with Jack Potter, calculating the average of the differences between dates.\n",
    "# The differences between dates were in milliseconds so we have to do the division, to convert it to days \n",
    "\n",
    "list(group_24_db.orders.aggregate([{'$match': {'SalespersonPersonID': 20}},\n",
    "                                  { \"$group\": {\n",
    "                                    \"_id\": 'Null',\n",
    "                                    \"avg_time\": {\n",
    "                                      \"$avg\": { \n",
    "                                            '$divide': [{ \n",
    "                                                '$subtract': ['$OrderDate', '$ExpectedDeliveryDate'] }, 1000 * 60 * 60 * 24]    \n",
    "                                      }\n",
    "                                    }\n",
    "                                  }},\n",
    "                                  {'$project': {\n",
    "                                        \"_id\": 0,\n",
    "                                        \"Average Time\": \"$avg_time\"\n",
    "                                    }}\n",
    "                                ]))"
   ]
  }
 ],
 "metadata": {
  "kernelspec": {
   "display_name": "Python 3",
   "language": "python",
   "name": "python3"
  },
  "language_info": {
   "codemirror_mode": {
    "name": "ipython",
    "version": 3
   },
   "file_extension": ".py",
   "mimetype": "text/x-python",
   "name": "python",
   "nbconvert_exporter": "python",
   "pygments_lexer": "ipython3",
   "version": "3.8.5"
  }
 },
 "nbformat": 4,
 "nbformat_minor": 5
}
