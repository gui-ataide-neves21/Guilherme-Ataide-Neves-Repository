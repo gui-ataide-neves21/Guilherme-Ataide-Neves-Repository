{
 "cells": [
  {
   "cell_type": "markdown",
   "metadata": {},
   "source": [
    "# Big Data Modeling and Management Assigment\n",
    "\n",
    "\n",
    "## 🍺 The Beer project  🍺 \n",
    "\n",
    "As it was shown in classes, graph databases are a natural way of navegating distinct types of data. For this first project we will be taking a graph database to analyse beer and breweries!   \n",
    "\n",
    "_For reference the dataset used for this project has been extracted from [kaggle](https://www.kaggle.com/ehallmar/beers-breweries-and-beer-reviews), released by Evan Hallmark. Even though the author does not present metada on the origin of the data it is probably a collection of open data from places like [beeradvocate](https://www.beeradvocate.com/)_ \n",
    "\n",
    "#### Problem description\n",
    "\n",
    "Explore the database via python neo4j connector and/or the graphical tool in the NEO4J webpage. Answer the questions. Submit the results by following the instructions\n",
    "\n",
    "#### Connection details to the neo4j database\n",
    "```\n",
    "Host: rhea.isegi.unl.pt:7474  \n",
    "Username: neo4j  \n",
    "Password: F3cfcrnvBev57KZ8mcMk78L9wHgJVZuJ \n",
    "Connect URL : bolt://rhea.isegi.unl.pt:7687\n",
    "```\n",
    "\n",
    "\n",
    "#### Questions\n",
    "\n",
    "\n",
    "0. __Example Question__ _How many beers does the database contain?_\n",
    "1. How many different countries exist in the database?\n",
    "1. Most reviews:  \n",
    "    1. Which `Beer` has the most reviews?  \n",
    "    1. Which `Brewery` has the most reviews for its beers?\n",
    "    1. Which `Country` has the most reviews for its beers? \n",
    "1. Find the user/users that have the most shared reviews (reviews of the same beers) with the user CTJman?\n",
    "1. Which Portuguese brewery has the most beers?\n",
    "1. From those beers (the ones returned from the previous question), which has the most reviews?\n",
    "1. On average how many different beer styles does each brewery produce?\n",
    "1. Which brewery produces the strongest beers according to ABV?\n",
    "1. If I typically enjoy a beer due to its aroma and appearance, which beer style should I try?\n",
    "1. Using Graph Algorithms answer the questions:\n",
    "    1. Which Countries are most similiar when it comes to the most produced Beer styles\n",
    "    1. Which beer has the most similar reviews as the beer `Super Bock Stout`\n",
    "1. If you had to pick 3 beers to recommend using only this database, which would you pick and why?\n",
    "\n",
    "\n",
    " Questions 8 to 10 are somewhat open, which means we'll also be evaluating the reasoning behind your answer. So there aren't necessarily bad results there are only wrong criteria, explanations or execution. \n",
    " \n",
    "##### Groups  \n",
    "\n",
    "Groups should have 4 to 5 people  \n",
    "You should register your group on moodle. An email will be going out to everyone with the credentials for the database to use when storing the results.\n",
    "\n",
    "\n",
    "##### Submission      \n",
    "\n",
    "Submission of the query results to be done to the group's redis database (explained on the first class, credentials sent via email).  \n",
    "The following format is expected:\n",
    "```\n",
    "    >>> redis.set(\"0\", \"358873\")\n",
    "```\n",
    "\n",
    "This result should be the anwser of the group to question 0\n",
    "\n",
    "The code used to produce the results and respective explations should be uploaded to moodle. They should have a clear reference to the group, either on the file name or on the document itself. Preferably one Jupyter notebook per group.\n",
    "\n",
    "Delivery date: Until the **midnight of May 2nd**\n",
    "\n",
    "##### Evaluation   \n",
    "\n",
    "This will be 20% of the final grade.   \n",
    "Each solution will be evaluated on 2 components: correctness of results and simplicity of the solution.  \n",
    "All code will go through plagiarism automated checks. Groups with the same code will undergo investigation.\n",
    "\n",
    "**Note:**\n",
    "Remember the Neo4j is a shared database and when creating in-memory graphs please use your group's prefix.  \n",
    "Ex. Instead of `my-graph` as the name of your graph please use `group0-my-graph`."
   ]
  },
  {
   "cell_type": "code",
   "execution_count": 4,
   "metadata": {},
   "outputs": [
    {
     "data": {
      "text/plain": [
       "[{'count(*)': 9647598}]"
      ]
     },
     "execution_count": 4,
     "metadata": {},
     "output_type": "execute_result"
    }
   ],
   "source": [
    "import py2neo\n",
    "from pprint import pprint\n",
    "\n",
    "username=\"neo4j\"\n",
    "password=\"F3cfcrnvBev57KZ8mcMk78L9wHgJVZuJ\"\n",
    "host=\"rhea.isegi.unl.pt\"\n",
    "port=\"7474\"\n",
    "\n",
    "group_24_graph = py2neo.Graph(f\"http://{username}:{password}@{host}:{port}\")\n",
    "group_24_graph.run(\"MATCH () RETURN count(*)\").data()"
   ]
  },
  {
   "cell_type": "markdown",
   "metadata": {},
   "source": [
    "## Question 4"
   ]
  },
  {
   "cell_type": "code",
   "execution_count": 6,
   "metadata": {},
   "outputs": [
    {
     "data": {
      "text/plain": [
       "[{'brewery': 'Dois Corvos Cervejeira', 'num_beers': 40}]"
      ]
     },
     "execution_count": 6,
     "metadata": {},
     "output_type": "execute_result"
    }
   ],
   "source": [
    "# Question 4\n",
    "\n",
    "# Establish the relationship between country, breweries and beers nodes so the brewery name and the total number of beers can be\n",
    "# returned, only retrieving the name of brewery with the highest number of beers.\n",
    "group_24_graph.run(\"\"\"\n",
    "        MATCH (country:Country {country_digit: 'PT'})-[:FROM]-(brewery:Breweries)-[:BREWED_AT]-(beer:Beers)\n",
    "        RETURN brewery.name as brewery, count(*) as num_beers\n",
    "        ORDER BY num_beers DESC\n",
    "        LIMIT 1\n",
    "\"\"\").data()"
   ]
  },
  {
   "cell_type": "markdown",
   "metadata": {},
   "source": [
    "## Question 5"
   ]
  },
  {
   "cell_type": "code",
   "execution_count": 7,
   "metadata": {},
   "outputs": [
    {
     "data": {
      "text/plain": [
       "[{'beer': 'Finisterra', 'num_reviews': 10}]"
      ]
     },
     "execution_count": 7,
     "metadata": {},
     "output_type": "execute_result"
    }
   ],
   "source": [
    "# Question 5\n",
    "\n",
    "# Establish the relationship between breweries, beers and reviews nodes so the brewery name and the total number of reviews can\n",
    "# be returned, only retrieving the name of the beer with the highest number of reviews. \n",
    "group_24_graph.run(\"\"\"\n",
    "        MATCH (b:Breweries {name: 'Dois Corvos Cervejeira'})-[:BREWED_AT]-(be:Beers)-[:ABOUT]-(rev:Reviews)\n",
    "        RETURN be.name as beer, count(*) as num_reviews\n",
    "        ORDER BY num_reviews DESC\n",
    "        LIMIT 1\n",
    "\"\"\").data()"
   ]
  },
  {
   "cell_type": "markdown",
   "metadata": {},
   "source": [
    "### Question 9.A"
   ]
  },
  {
   "cell_type": "code",
   "execution_count": 10,
   "metadata": {},
   "outputs": [
    {
     "data": {
      "text/plain": [
       "[{'nodeQuery': 'MATCH (c:Country) return id(c) as id UNION ALL MATCH (s:Style) return id(s) as id',\n",
       "  'relationshipQuery': 'MATCH (c:Country)-[:FROM]-(brewery:Breweries)-[:BREWED_AT]-(be:Beers)-[:OF_TYPE]-(s:Style) WITH c as country, s as style, count(*) as count_style ORDER BY count_style DESC WITH country, collect(style)[..10] as top_10 UNWIND top_10 as top_10_styles RETURN id(country) as source, id(top_10_styles) as target',\n",
       "  'graphName': 'graph-9.A',\n",
       "  'nodeCount': 313,\n",
       "  'relationshipCount': 1365,\n",
       "  'createMillis': 1152}]"
      ]
     },
     "execution_count": 10,
     "metadata": {},
     "output_type": "execute_result"
    }
   ],
   "source": [
    "# Question 9.A\n",
    "# Create a graph that makes the union between all countries' ids and beer styles' ids, including duplicates. The last query\n",
    "# makes the relationship between the country and style nodes, making the count of the styles for each country, ordering it in a \n",
    "# descending order, frrom the most produced style until the tenth one. it retrieves the id of the countries as the source nodes\n",
    "# and the id of the top 10 styles as the target nodes, to compare the similarity of the countries in terms of the top 10 most \n",
    "# produced beer styles.\n",
    "\n",
    "group_24_graph.run(f\"\"\"                                    \n",
    "    CALL gds.graph.create.cypher(\n",
    "        'graph-9.A',\n",
    "        'MATCH (c:Country) return id(c) as id UNION ALL MATCH (s:Style) return id(s) as id',\n",
    "        'MATCH (c:Country)-[:FROM]-(brewery:Breweries)-[:BREWED_AT]-(be:Beers)-[:OF_TYPE]-(s:Style) WITH c as country, s as style, count(*) as count_style ORDER BY count_style DESC WITH country, collect(style)[..10] as top_10 UNWIND top_10 as top_10_styles RETURN id(country) as source, id(top_10_styles) as target'\n",
    "    )\n",
    "\"\"\").data()"
   ]
  },
  {
   "cell_type": "code",
   "execution_count": 11,
   "metadata": {},
   "outputs": [
    {
     "data": {
      "text/plain": [
       "[{'country_1': 'IR', 'country_2': 'LY', 'similarity': 1.0}]"
      ]
     },
     "execution_count": 11,
     "metadata": {},
     "output_type": "execute_result"
    }
   ],
   "source": [
    "# Question 9.A\n",
    "# It finds the nodes with higher similarity between them, in other words, the countries which have a higher similarity. To do\n",
    "# that, the similarity score is ordered in descending order to output the most similar two countries. In the end, we found out\n",
    "# that Iran and Libya are two examples of the most similar countries when it comes to beer styles, scoring the highest value for\n",
    "# similarity, which is 1.\n",
    "\n",
    "group_24_graph.run(\"\"\"  \n",
    "    CALL gds.nodeSimilarity.stream(\n",
    "      'graph-9.A'\n",
    "    ) YIELD\n",
    "      node1,\n",
    "      node2,\n",
    "      similarity\n",
    "    RETURN \n",
    "      gds.util.asNode(node1).country_digit as country_1,\n",
    "      gds.util.asNode(node2).country_digit as country_2,\n",
    "      similarity\n",
    "    ORDER BY similarity DESC\n",
    "    LIMIT 1\n",
    "\"\"\").data()"
   ]
  },
  {
   "cell_type": "markdown",
   "metadata": {},
   "source": [
    "## Question 9C"
   ]
  },
  {
   "cell_type": "code",
   "execution_count": 8,
   "metadata": {},
   "outputs": [
    {
     "data": {
      "text/plain": [
       "[{'nodeQuery': 'MATCH (rev:Reviews) RETURN id(rev) as id UNION ALL MATCH (u:Username) RETURN id(u) as id',\n",
       "  'relationshipQuery': 'MATCH (rev:Reviews)-[:MADE]-(u:Username) RETURN id(rev) as source, id(u) as target',\n",
       "  'graphName': 'graph-9.C',\n",
       "  'nodeCount': 9238064,\n",
       "  'relationshipCount': 9073128,\n",
       "  'createMillis': 32750}]"
      ]
     },
     "execution_count": 8,
     "metadata": {},
     "output_type": "execute_result"
    }
   ],
   "source": [
    "# Question 9.C\n",
    "# Create a graph that makes the union between all Reviews ids and beer styles ids, including duplicates. The last query makes \n",
    "# the relationship between the reviews and username nodes. It retrieves the id of the reviews as the source nodes and the id \n",
    "# of the usernames as the target nodes, to compare the degree of influence a user has, so as more relationships as user has to\n",
    "# the reviews nodes, the higher the score and more influence he/she has.\n",
    "\n",
    "group_24_graph.run(f\"\"\"                                    \n",
    "    CALL gds.graph.create.cypher(\n",
    "        'graph-9.C',\n",
    "        'MATCH (rev:Reviews) RETURN id(rev) as id UNION ALL MATCH (u:Username) RETURN id(u) as id',\n",
    "        'MATCH (rev:Reviews)-[:MADE]-(u:Username) RETURN id(rev) as source, id(u) as target'\n",
    "    )\n",
    "\"\"\").data()"
   ]
  },
  {
   "cell_type": "code",
   "execution_count": 9,
   "metadata": {},
   "outputs": [
    {
     "data": {
      "text/plain": [
       "[{'username': 'Sammy', 'score': 1759.37}]"
      ]
     },
     "execution_count": 9,
     "metadata": {},
     "output_type": "execute_result"
    }
   ],
   "source": [
    "# Question 9.C\n",
    "# It finds the node with higher score, in other words, the user which has made more reviews, thus the most influential user, so\n",
    "# with the most relationships to the reviews nodes. To find it, the score is ordered in descending order to output the username\n",
    "# with the higher score. In the end, it was found out that Sammy is the user with the highest score, being deemed to be the most\n",
    "# influential user, with a score of 1759.37.\n",
    "\n",
    "group_24_graph.run(\"\"\"  \n",
    "    CALL gds.pageRank.stream(\n",
    "      'graph-9.C'\n",
    "    ) YIELD\n",
    "      nodeId,\n",
    "      score\n",
    "    RETURN \n",
    "      gds.util.asNode(nodeId).user_name as username,\n",
    "      ROUND(score,2) as score\n",
    "    ORDER BY score DESC\n",
    "    LIMIT 1\n",
    "\"\"\").data()"
   ]
  }
 ],
 "metadata": {
  "kernelspec": {
   "display_name": "Python 3",
   "language": "python",
   "name": "python3"
  },
  "language_info": {
   "codemirror_mode": {
    "name": "ipython",
    "version": 3
   },
   "file_extension": ".py",
   "mimetype": "text/x-python",
   "name": "python",
   "nbconvert_exporter": "python",
   "pygments_lexer": "ipython3",
   "version": "3.8.5"
  }
 },
 "nbformat": 4,
 "nbformat_minor": 4
}
